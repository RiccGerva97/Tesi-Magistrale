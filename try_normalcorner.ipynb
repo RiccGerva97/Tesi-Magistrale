{
 "cells": [
  {
   "cell_type": "code",
   "execution_count": 1,
   "metadata": {},
   "outputs": [
    {
     "name": "stdout",
     "output_type": "stream",
     "text": [
      "[[ 2.   1.9 -0.1]\n",
      " [ 1.9  2.   0.5]\n",
      " [-0.1  0.1  2. ]]\n",
      "[ 2.  -2.   0.5]\n"
     ]
    }
   ],
   "source": [
    "import matplotlib\n",
    "matplotlib.use('Agg')\n",
    "import matplotlib.pyplot as plt\n",
    "\n",
    "# If running from command line, above should be ran before\n",
    "# importing normal_corner\n",
    "import numpy as np\n",
    "from normal_corner import normal_corner\n",
    "\n",
    "### EXAMPLE 1: plotting one covariance matrix ###\n",
    "\n",
    "# Covariance matrix, as a numpy array\n",
    "covm = np.array([[2.0, 1.9, -0.1], [1.9, 2.0, 0.5], [-0.1,0.1,2.0]])\n",
    "print(covm)\n",
    "\n",
    "# Mean matrix, as a numpy array\n",
    "mean = np.array([2, -2, 0.5])\n",
    "print(mean)\n",
    "\n",
    "# Variable labels for plotting, as a list of strings\n",
    "# in LaTeX format, between $$ symbols\n",
    "varlabels = ['$var_1$','$var\\\\frac{2}{3}$','$var3^3$']\n",
    "\n",
    "# Make a corner plot\n",
    "fig1 = normal_corner.normal_corner(covm,mean,varlabels)\n",
    "plt.savefig('example_1.png')\n",
    "plt.close()\n",
    "\n",
    "### EXAMPLE 2: plotting a reducer-order covariance matrix on top ###\n",
    "\n",
    "covm2 = np.array([[1.0, 0.9], [0.9, 1.0]])\n",
    "mean2 = np.array([-2, -0.5])\n",
    "fixedvarindex = 1 # Index of value that we skip (1 means 2nd out of 3)\n",
    "fixedvarvalue = -2 # Value that a skipped variable has\n",
    "\n",
    "# Make a corner plot\n",
    "fig2 = normal_corner.normal_corner(covm,mean,varlabels,fixedvarindex=fixedvarindex,fixedvarvalue=fixedvarvalue,covm2=covm2,mean2=mean2)\n",
    "plt.savefig('example_2.png')\n",
    "plt.close()"
   ]
  },
  {
   "cell_type": "code",
   "execution_count": null,
   "metadata": {},
   "outputs": [],
   "source": []
  }
 ],
 "metadata": {
  "kernelspec": {
   "display_name": "venv",
   "language": "python",
   "name": "python3"
  },
  "language_info": {
   "codemirror_mode": {
    "name": "ipython",
    "version": 3
   },
   "file_extension": ".py",
   "mimetype": "text/x-python",
   "name": "python",
   "nbconvert_exporter": "python",
   "pygments_lexer": "ipython3",
   "version": "3.10.4"
  },
  "orig_nbformat": 4
 },
 "nbformat": 4,
 "nbformat_minor": 2
}
