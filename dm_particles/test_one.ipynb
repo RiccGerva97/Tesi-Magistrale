{
 "cells": [
  {
   "cell_type": "code",
   "execution_count": 1,
   "metadata": {},
   "outputs": [],
   "source": [
    "import numpy as np\n",
    "import readgadget\n",
    "import hdf5plugin\n",
    "import h5py\n",
    "from sys import getsizeof\n",
    "import math\n",
    "import pickle\n",
    "import blosc"
   ]
  },
  {
   "cell_type": "code",
   "execution_count": 2,
   "metadata": {},
   "outputs": [],
   "source": [
    "# input files\n",
    "snapshot = '/media/fuffolo97/VolD/Riccardo/SnapshotsTry/snapdir_002/snap_002'\n",
    "ptype    = [1] #[1](CDM), [2](neutrinos) or [1,2](CDM+neutrinos)\n",
    "\n",
    "# read header\n",
    "header   = readgadget.header(snapshot)\n",
    "BoxSize  = header.boxsize/1e3  #Mpc/h\n",
    "Nall     = header.nall         #Total number of particles\n",
    "Masses   = header.massarr*1e10 #Masses of the particles in Msun/h\n",
    "Omega_m  = header.omega_m      #value of Omega_m\n",
    "Omega_l  = header.omega_l      #value of Omega_l\n",
    "h        = header.hubble       #value of h\n",
    "redshift = header.redshift     #redshift of the snapshot\n",
    "Hubble   = 100.0*np.sqrt(Omega_m*(1.0+redshift)**3+Omega_l)#Value of H(z) in km/s/(Mpc/h)\n",
    "\n",
    "# read positions, velocities and IDs of the particles\n",
    "pos = readgadget.read_block(snapshot, \"POS \", ptype)/1e3 #positions in Mpc/h\n",
    "vel = readgadget.read_block(snapshot, \"VEL \", ptype)     #peculiar velocities in km/s\n",
    "ids = readgadget.read_block(snapshot, \"ID  \", ptype)-1   #IDs starting from 0"
   ]
  },
  {
   "cell_type": "code",
   "execution_count": 3,
   "metadata": {},
   "outputs": [],
   "source": [
    "# hf = h5py.File(\"/media/fuffolo97/VolD/Riccardo/SnapshotsTry/Datas/data.h5\", 'w')\n",
    "# hf.create_dataset(\"Data3\", data=DATA3, compression=\"gzip\", compression_opts=9)\n",
    "# hf.close()"
   ]
  },
  {
   "cell_type": "code",
   "execution_count": 4,
   "metadata": {},
   "outputs": [],
   "source": [
    "# hf = h5py.File(\"/media/fuffolo97/VolD/Riccardo/SnapshotsTry/Datas/data_ch2.h5\", 'w')\n",
    "# dset = hf.create_dataset(\"DataChunk\", np.shape(DATA3), dtype='f', chunks = True)\n",
    "# # dset.chunks\n",
    "# hf.close()\n",
    "\n",
    "# hf = h5py.File(\"/media/fuffolo97/VolD/Riccardo/SnapshotsTry/Datas/data_ch2.h5\", 'r')\n",
    "# print(hf.keys())\n",
    "# a = hf.get(\"DataChunk\")\n",
    "# print(np.shape(a))\n",
    "# print(a[0])\n",
    "# hf.close()"
   ]
  },
  {
   "cell_type": "code",
   "execution_count": 5,
   "metadata": {},
   "outputs": [],
   "source": [
    "# #data_bytes = DATA3.tobytes()\n",
    "# a = blosc.compress(DATA3[0].tobytes())\n",
    "# with open(\"/media/fuffolo97/VolD/Riccardo/SnapshotsTry/Datas/data.blosc\", \"wb\") as f:\n",
    "#     f.write(a)"
   ]
  },
  {
   "cell_type": "code",
   "execution_count": 6,
   "metadata": {},
   "outputs": [],
   "source": [
    "# with open('/media/fuffolo97/VolD/Riccardo/SnapshotsTry/Datas/data.blosc', 'rb') as f:\n",
    "#     dec = f.read()\n",
    "#     dec = blosc.decompress(dec)"
   ]
  },
  {
   "cell_type": "code",
   "execution_count": 7,
   "metadata": {},
   "outputs": [],
   "source": [
    "# import struct\n",
    "# D = []\n",
    "# for i in range(len(pos)):\n",
    "#     D.append(struct.unpack('f', b'\\xdb\\x0fI@'))\n",
    "# D[0]"
   ]
  },
  {
   "cell_type": "code",
   "execution_count": 8,
   "metadata": {},
   "outputs": [
    {
     "name": "stderr",
     "output_type": "stream",
     "text": [
      "/home/fuffolo97/anaconda3/envs/nbodykit-envB/lib/python3.8/site-packages/scipy/__init__.py:146: UserWarning: A NumPy version >=1.16.5 and <1.23.0 is required for this version of SciPy (detected version 1.24.3\n",
      "  warnings.warn(f\"A NumPy version >={np_minversion} and <{np_maxversion}\"\n"
     ]
    }
   ],
   "source": [
    "from nbodykit.source.catalog import BinaryCatalog\n",
    "import MAS_library as MASL"
   ]
  },
  {
   "cell_type": "code",
   "execution_count": 9,
   "metadata": {},
   "outputs": [],
   "source": [
    "N_grid = 256\n",
    "N_mesh = 512\n",
    "\n",
    "with open('./data_source.dat', \"wb\") as ff:\n",
    "    pos.tofile(ff)\n",
    "    np.full(len(pos), Masses[1], dtype=np.float32).tofile(ff)\n",
    "    ff.seek(0)\n",
    "\n",
    "dtype_cust = [(\"Position\", (np.float32, 3)),\\\n",
    "              (\"Mass\", np.float32)]\n",
    "\n",
    "binCat = BinaryCatalog(ff.name, dtype_cust)\n",
    "mesh = binCat.to_mesh(resampler='tsc', Nmesh=N_mesh,\n",
    "                        compensated=True,  # deconvolving\n",
    "                        interlaced=True,   # antialiasing\n",
    "                        position='Position', weight=\"Mass\",\n",
    "                        BoxSize=BoxSize\n",
    "                        )\n",
    "delta = mesh.preview()\n",
    "\n",
    "dens = np.zeros((N_grid, N_grid, N_grid), dtype=np.float32)\n",
    "MASL.MA(pos, dens, BoxSize, 'TSC',\\\n",
    "        W = np.full(len(pos), Masses[1], dtype=np.float32))\n",
    "dens /= np.mean(dens, dtype=np.float32)\n",
    "dens -= 1."
   ]
  },
  {
   "cell_type": "code",
   "execution_count": 10,
   "metadata": {},
   "outputs": [],
   "source": [
    "mesh_2 = binCat.to_mesh(resampler='tsc', Nmesh=N_grid,\n",
    "                        compensated=True,  # deconvolving\n",
    "                        interlaced=True,   # antialiasing\n",
    "                        position='Position', weight=\"Mass\",\n",
    "                        BoxSize=BoxSize\n",
    "                        )\n",
    "delta_2 = mesh_2.preview()"
   ]
  },
  {
   "cell_type": "code",
   "execution_count": 11,
   "metadata": {},
   "outputs": [],
   "source": [
    "# delta_2_bis = mesh.preview(Nmesh=256)"
   ]
  },
  {
   "cell_type": "code",
   "execution_count": 12,
   "metadata": {},
   "outputs": [],
   "source": [
    "mesh_3 = binCat.to_mesh(resampler='tsc', Nmesh=N_grid,\n",
    "                        position='Position', weight=\"Mass\",\n",
    "                        BoxSize=BoxSize\n",
    "                        )\n",
    "delta_3 = mesh_3.preview().astype('float32')"
   ]
  },
  {
   "cell_type": "code",
   "execution_count": 16,
   "metadata": {},
   "outputs": [],
   "source": [
    "dens_3 = delta_3\n",
    "dens_3 /= np.mean(dens_3, dtype=np.float32)\n",
    "dens_3 -= 1."
   ]
  },
  {
   "cell_type": "code",
   "execution_count": 18,
   "metadata": {},
   "outputs": [],
   "source": [
    "Dens_3 = np.float32(dens_3)"
   ]
  },
  {
   "cell_type": "code",
   "execution_count": null,
   "metadata": {},
   "outputs": [],
   "source": []
  }
 ],
 "metadata": {
  "kernelspec": {
   "display_name": "nbodykit-envB",
   "language": "python",
   "name": "python3"
  },
  "language_info": {
   "codemirror_mode": {
    "name": "ipython",
    "version": 3
   },
   "file_extension": ".py",
   "mimetype": "text/x-python",
   "name": "python",
   "nbconvert_exporter": "python",
   "pygments_lexer": "ipython3",
   "version": "3.8.18"
  }
 },
 "nbformat": 4,
 "nbformat_minor": 2
}
