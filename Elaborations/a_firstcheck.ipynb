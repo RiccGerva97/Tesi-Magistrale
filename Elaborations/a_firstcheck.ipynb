{
 "cells": [
  {
   "cell_type": "code",
   "execution_count": 1,
   "metadata": {},
   "outputs": [],
   "source": [
    "import numpy as np\n",
    "import scipy as sp\n",
    "import getopt\n",
    "from tqdm import tqdm\n",
    "import os\n",
    "import pickle\n",
    "import seaborn as sns\n",
    "import matplotlib.pyplot as plt"
   ]
  },
  {
   "cell_type": "code",
   "execution_count": 2,
   "metadata": {},
   "outputs": [],
   "source": [
    "def correlation_matrix(m):\n",
    "    \"\"\"Calculates the correlation matrix of matrix m_ij.\"\"\"\n",
    "    avg = np.average(m, axis=0)\n",
    "    dim = len(avg)\n",
    "    # ~~~~~~~~~~~~~~~~~~~~~~~~~~~~~~~~~~~~~~~~~~~~~~~~~~~~~~~~~~~~~~~~~~~~\n",
    "    # VARIATION\n",
    "    sigma = []\n",
    "    for i in range(dim):\n",
    "        sigma.append(np.sum((avg[i] - m[i])**2))\n",
    "    sigma = np.sqrt(sigma)\n",
    "    \n",
    "    sigma_bis = []\n",
    "    for i in range(dim):\n",
    "        cum = 0\n",
    "        for j in range(len(m[i])):\n",
    "            cum += (avg[i] - m[i][j])**2\n",
    "        sigma_bis.append(cum)\n",
    "    sigma_bis = np.sqrt(sigma_bis)        \n",
    "    # ~~~~~~~~~~~~~~~~~~~~~~~~~~~~~~~~~~~~~~~~~~~~~~~~~~~~~~~~~~~~~~~~~~~~\n",
    "    # CORRELATION MATRIX\n",
    "    CORR = np.zeros((dim, dim))\n",
    "    for i in range(dim):\n",
    "        for j in range(dim):\n",
    "            cum = 0\n",
    "            for k in range(len(m[i])):\n",
    "                cum += (avg[i] - m[i][k])*(avg[j] - m[j][k])\n",
    "            CORR[i, j] = cum  / (sigma_bis[i] * sigma_bis[j])\n",
    "\n",
    "    if np.linalg.det(CORR) == 0:\n",
    "        print(\"¶ WARNING: correlation matrix is singular\")\n",
    "    \n",
    "    return CORR\n",
    "\n",
    "def Hartlap(mat, Nr = 350):\n",
    "    \"\"\"Calculates inverse matrix using Hartlap correction.\n",
    "    Arguments:\n",
    "    - `mat`: input matrix to invert\n",
    "    - `Nr`: nuber of realization used o calculated the matrix\n",
    "    \"\"\"\n",
    "    return (Nr-len(mat)-2)/(Nr-1)*np.linalg.inv(mat)\n",
    "\n",
    "def info_name(name):\n",
    "    \"\"\"Obtain realization information from namefile\"\"\"\n",
    "    print(\"TYPE: \", type(name))\n",
    "    info = name.split('_')[-3:]\n",
    "    print(\"TYPE: \", info, \"\\n\", type(info))\n",
    "    info[2] = info[2].replace(\".wst\", \"\")\n",
    "    N_hgrid = info[0]\n",
    "    N_WSTgrid = info[1]\n",
    "    n_realiz = info[2].replace(\".wst\", \"\")\n",
    "    \n",
    "    return [int(N_hgrid), int(N_WSTgrid), int(n_realiz)]\n",
    "\n",
    "def cosmo_parser(name):\n",
    "    \"\"\"Obtain cosmology from .wst file\"\"\"\n",
    "    info = name.split('_')\n",
    "    if info[0] == \"fiducial\":\n",
    "        return info[0]\n",
    "    elif info[0] == \"zeldovich\":\n",
    "        return info[0]\n",
    "    else:\n",
    "        return info[0] + \"_\" + info[1]"
   ]
  },
  {
   "cell_type": "code",
   "execution_count": 3,
   "metadata": {},
   "outputs": [
    {
     "data": {
      "text/plain": [
       "'Values of fiducial cosmological parameters.\\n'"
      ]
     },
     "execution_count": 3,
     "metadata": {},
     "output_type": "execute_result"
    }
   ],
   "source": [
    "order_folders = {\n",
    "    'fiducial'  : 0,\n",
    "    'h_m'       : 1,\n",
    "    'h_p'       : 2,\n",
    "    'Mnu_p'     : 3,\n",
    "    'Mnu_pp'    : 4,\n",
    "    'Mnu_ppp'   : 5,\n",
    "    'ns_m'      : 6,\n",
    "    'ns_p'      : 7,\n",
    "    'Ob2_m'     : 8,\n",
    "    'Ob2_p'     : 9,\n",
    "    'Om_m'      : 10,\n",
    "    'Om_p'      : 11,\n",
    "    's8_m'      : 12,\n",
    "    's8_p'      : 13,\n",
    "    'w_m'       : 14,\n",
    "    'w_p'       : 15,\n",
    "    'zeldovich' : 16\n",
    "}\n",
    "\n",
    "cosmological_pars = {\n",
    "    'Om'  : 0,\n",
    "    'Ob'  : 1,\n",
    "    'h'   : 2,\n",
    "    'ns'  : 3,\n",
    "    's8'  : 4,\n",
    "    'w'   : 5,\n",
    "    'Mnu' : 6\n",
    "}\n",
    "\n",
    "order_dimension = {\n",
    "    'Om'  : 0,\n",
    "    'Ob'  : 1,\n",
    "    'Ob2' : 1,\n",
    "    'h'   : 2,\n",
    "    'ns'  : 3,\n",
    "    's8'  : 4,\n",
    "    'w'   : 5,\n",
    "    'Mnu' : 6\n",
    "}\n",
    "\n",
    "COSMOPAR = {\n",
    "#                   | Om   | Ob   |   h   |  n_s  | s_8 | Mnu | w |\n",
    "\n",
    "    'fiducial' :    [0.3175, 0.049, 0.6711, 0.9624, 0.834, 0, -1],\n",
    "    'zeldovich':    [0.3175, 0.049, 0.6711, 0.9624, 0.834, 0, -1],\n",
    "    \n",
    "    'Mnu_p' :       [0.3175, 0.049, 0.6711, 0.9624, 0.834, 0.1, -1],\n",
    "    'Mnu_pp' :      [0.3175, 0.049, 0.6711, 0.9624, 0.834, 0.2, -1],\n",
    "    'Mnu_ppp' :     [0.3175, 0.049, 0.6711, 0.9624, 0.834, 0.4, -1],\n",
    "    \n",
    "    'h_m' :         [0.3175, 0.049, 0.6511, 0.9624, 0.834, 0, -1],\n",
    "    'h_p' :         [0.3175, 0.049, 0.6911, 0.9624, 0.834, 0, -1],\n",
    "    \n",
    "    'ns_m' :        [0.3175, 0.049, 0.6711, 0.9424, 0.834, 0, -1],\n",
    "    'ns_p' :        [0.3175, 0.049, 0.6711, 0.9824, 0.834, 0, -1],\n",
    "    \n",
    "    'Ob_m' :        [0.3175, 0.048, 0.6711, 0.9624, 0.834, 0, -1],\n",
    "    'Ob_p' :        [0.3175, 0.050, 0.6711, 0.9624, 0.834, 0, -1],\n",
    "    'Ob2_m' :       [0.3175, 0.047, 0.6711, 0.9624, 0.834, 0, -1],\n",
    "    'Ob2_p' :       [0.3175, 0.051, 0.6711, 0.9624, 0.834, 0, -1],\n",
    "    \n",
    "    'Om_m' :        [0.3075, 0.049, 0.6711, 0.9624, 0.834, 0, -1],\n",
    "    'Om_p' :        [0.3275, 0.049, 0.6711, 0.9624, 0.834, 0, -1],\n",
    "    \n",
    "    's8_m' :        [0.3175, 0.049, 0.6711, 0.9624, 0.819, 0, -1],\n",
    "    's8_p' :        [0.3175, 0.049, 0.6711, 0.9624, 0.849, 0, -1],\n",
    "    \n",
    "    'w_m' :         [0.3175, 0.049, 0.6711, 0.9624, 0.834, 0, -0.95],\n",
    "    'w_p' :         [0.3175, 0.049, 0.6711, 0.9624, 0.834, 0, -1.05]\n",
    "}\n",
    "\"\"\"\n",
    "Dictionary to assegnate to a cosmology its parameters\n",
    "Ordered pairing cosmologies and the first one in with _m, the second one _p\n",
    "\"\"\"\n",
    "\n",
    "VarCosmoPar = {\n",
    "    'd_h'  : 0.02,\n",
    "    'd_ns' : 0.02,\n",
    "    'd_Ob' : 0.001,\n",
    "    'd_Ob2': 0.002,\n",
    "    'd_Om' : 0.01,\n",
    "    'd_s8' : 0.015,\n",
    "    'd_w'  : -0.05\n",
    "}\n",
    "\"\"\"Values of deviations from fiducial cosmological parameters.\n",
    "\"\"\"\n",
    "\n",
    "fiducial_vals = {\n",
    "    'Ob'  : 0.3175,\n",
    "    'Ob2' : 0.3175,\n",
    "    'Om'  : 0.049,\n",
    "    'h'   : 0.6711,\n",
    "    'n_s' : 0.9624,\n",
    "    'ns'  : 0.9624,\n",
    "    's_8' : 0.834,\n",
    "    's8'  : 0.834,\n",
    "    'Mnu' : 0,\n",
    "    'w'   : -1\n",
    "}\n",
    "\"\"\"Values of fiducial cosmological parameters.\n",
    "\"\"\""
   ]
  },
  {
   "cell_type": "code",
   "execution_count": 4,
   "metadata": {},
   "outputs": [],
   "source": [
    "root = \"/home/fuffolo97/TESI/WST-files_08_08/WST-files_08_08/\"\n",
    "folders = ['fiducial', 'zeldovich', 'h_m', 'h_p', 'Mnu_p', 'Mnu_pp' ,'Mnu_ppp', \\\n",
    "           'ns_m', 'ns_p', 'Ob2_m', 'Ob2_p', \\\n",
    "           'Om_m', 'Om_p', 's8_m', 's8_p', 'w_m', 'w_p']\n",
    "cosmologies = ['fiducial', 'zeldovich', 'h_m', 'h_p', 'Mnu_p', 'Mnu_pp' ,'Mnu_ppp', \\\n",
    "           'ns_m', 'ns_p', 'Ob2_m', 'Ob2_p', \\\n",
    "           'Om_m', 'Om_p', 's8_m', 's8_p', 'w_m', 'w_p']\n",
    "\n",
    "fiducial_coeffs = []\n",
    "zeldovich_coeffs = []"
   ]
  },
  {
   "cell_type": "code",
   "execution_count": 5,
   "metadata": {},
   "outputs": [],
   "source": [
    "coeffs_tot = np.zeros((len(cosmologies), 75))\n",
    "files_to_read_raw = os.listdir(root)\n",
    "files_to_read = []\n",
    "for i in range(len(files_to_read_raw)):\n",
    "    if \"400\" not in files_to_read_raw[i] and \"_RDs_\" not in files_to_read_raw[i]: files_to_read.append(files_to_read_raw[i])\n",
    "# files_to_read"
   ]
  },
  {
   "cell_type": "code",
   "execution_count": 6,
   "metadata": {},
   "outputs": [
    {
     "name": "stdout",
     "output_type": "stream",
     "text": [
      "['Ob2_m_coefficients_M_Ns_s08_q08_256_350.wst', 'Om_m_coefficients_M_Ns_s08_q08_256_350.wst', 'Mnu_pp_coefficients_M_Ns_s08_q08_256_350.wst', 's8_p_coefficients_M_Ns_s08_q08_256_350.wst', 'w_p_coefficients_M_Ns_s08_q08_256_350.wst', 'Om_p_coefficients_M_Ns_s08_q08_256_350.wst', 'h_m_coefficients_M_Ns_s08_q08_256_350.wst', 'w_m_coefficients_M_Ns_s08_q08_256_350.wst', 'Ob2_p_coefficients_M_Ns_s08_q08_256_350.wst', 'ns_m_coefficients_M_Ns_s08_q08_256_350.wst', 'Mnu_p_coefficients_M_Ns_s08_q08_256_350.wst', 'Mnu_ppp_coefficients_M_Ns_s08_q08_256_350.wst', 'zeldovich_coefficients_M_Ns_s08_q08_256_500.wst', 'ns_p_coefficients_M_Ns_s08_q08_256_350.wst', 'fiducial_coefficients_M_Ns_s08_q08_256_1000.wst', 'h_p_coefficients_M_Ns_s08_q08_256_350.wst', 's8_m_coefficients_M_Ns_s08_q08_256_350.wst']\n",
      "(75,)\n",
      "(75,)\n"
     ]
    }
   ],
   "source": [
    "coeffs_tot = np.zeros((len(cosmologies), 75))\n",
    "files_to_read_raw = os.listdir(root)\n",
    "files_to_read = []\n",
    "for i in range(len(files_to_read_raw)):\n",
    "    if \"400\" not in files_to_read_raw[i] and \"_RDs_\" not in files_to_read_raw[i]: files_to_read.append(files_to_read_raw[i])\n",
    "print(files_to_read)\n",
    "\n",
    "for i in range(len(files_to_read)):\n",
    "    coeffs_cosm = []\n",
    "    file_reading = files_to_read[i]\n",
    "\n",
    "    cosmo = cosmo_parser(file_reading)\n",
    "    assert cosmo in file_reading\n",
    "    # print(\"COSMO KEY: \", cosmo)\n",
    "    index = order_folders[cosmo]\n",
    "    \n",
    "    if (\"fiducial\" not in file_reading) and (\"zeldovich\" not in file_reading):\n",
    "        # print(\"A, \", file_reading)\n",
    "        with open(root + \"/\" + file_reading, 'rb') as Ff:\n",
    "            while True:\n",
    "                try:\n",
    "                    coeffs_cosm.append(pickle.load(Ff))\n",
    "                except EOFError:\n",
    "                    break\n",
    "                except RuntimeWarning:\n",
    "                    print(\"problem here: \", file_reading)\n",
    "\n",
    "    elif \"fiducial\" in file_reading:\n",
    "        # print(\"B, \", file_reading)\n",
    "        with open(root + \"/\" + file_reading, 'rb') as Ff:\n",
    "            while True:\n",
    "                try:\n",
    "                    fiducial_coeffs.append(pickle.load(Ff))\n",
    "                except EOFError:\n",
    "                    break\n",
    "                except RuntimeWarning:\n",
    "                    print(\"problem here: \", file_reading)\n",
    "        fiducial_coeffs_avg = np.average(fiducial_coeffs, axis=0)\n",
    "\n",
    "        print(np.shape(fiducial_coeffs_avg))\n",
    "        \n",
    "        if len(fiducial_coeffs) == 0:\n",
    "            print(cosmo, \" has problem!\")\n",
    "\n",
    "    elif \"zeldovich\" in file_reading:\n",
    "        # print(\"C, \", file_reading)\n",
    "        with open(root + \"/\" + file_reading, 'rb') as Ff:\n",
    "            while True:\n",
    "                try:\n",
    "                    zeldovich_coeffs.append(pickle.load(Ff))\n",
    "                except EOFError:\n",
    "                    break\n",
    "                except RuntimeWarning:\n",
    "                    print(\"problem here: \", file_reading)\n",
    "        # print(zeldovich_coeffs)\n",
    "        zeldovich_coeffs_avg = np.average(zeldovich_coeffs, axis=0)\n",
    "        # print(zeldovich_coeffs_avg)\n",
    "        print(np.shape(zeldovich_coeffs_avg))\n",
    "    else:\n",
    "        assert False, \"\\n   ERROR in reading WST files, cosmology can't be propely interpreted.\\n\"\n",
    "\n",
    "    # USING average  value per coefficient in cosmology\n",
    "    if len(coeffs_cosm) == 0 and cosmo != \"fiducial\" and cosmo != \"zeldovich\":\n",
    "        print(cosmo, \" has problem!\")\n",
    "        print(cosmo, \" : \", np.shape(coeffs_cosm))\n",
    "    if cosmo != \"fiducial\" and cosmo != \"zeldovich\":\n",
    "        coeffs_tot[index] = np.average(coeffs_cosm, axis=0)"
   ]
  },
  {
   "cell_type": "code",
   "execution_count": 7,
   "metadata": {},
   "outputs": [],
   "source": [
    "derivates = np.zeros((len(cosmological_pars), len(coeffs_tot[0])))\n",
    "n_seen = 0"
   ]
  },
  {
   "cell_type": "code",
   "execution_count": 8,
   "metadata": {},
   "outputs": [],
   "source": [
    "for i in cosmological_pars:\n",
    "    if \"Mnu\" not in i and \"Ob\" not in i:\n",
    "        ind = order_dimension[i]\n",
    "        derivates[ind]=(coeffs_tot[order_folders[i+\"_p\"]]-coeffs_tot[order_folders[i+\"_m\"]])\\\n",
    "                    /  (2 * VarCosmoPar['d_'+i] * fiducial_vals[i] )\n",
    "        assert derivates[order_dimension[i]].all() > 1e-3, f\"Derivates of {i} is null\"\n",
    "    elif \"Mnu\" in i:\n",
    "        # derivates[order_dimension['Mnu']] = \\\n",
    "        #     (coeffs_tot[order_folders['Mnu_ppp']] - 12 * coeffs_tot[order_folders['Mnu_pp']] + 32 * coeffs_tot[order_folders[\"Mnu_p\"]] - 12 * coeffs_tot[order_folders['zeldovich']]) / (12 * COSMOPAR[i][5]) - \\\n",
    "        #     (coeffs_tot[order_folders[\"Mnu_pp\"]] - 4 * coeffs_tot[order_folders['Mnu_p']] - 3 * coeffs_tot[order_folders['zeldovich']]) / (COSMOPAR[i][5]) + \\\n",
    "        #     (coeffs_tot[order_folders[\"Mnu_ppp\"]] - coeffs_tot[order_folders['zeldovich']]) / COSMOPAR[i][5]\n",
    "        # derivates[order_dimension['Mnu']] = (coeffs_tot[order_folders['Mnu_ppp']] - 12 * coeffs_tot[order_folders['Mnu_pp']] + 32 * coeffs_tot[order_folders[\"Mnu_p\"]] - 12 * zeldovich_coeffs_avg) / (12 * COSMOPAR[i][5]) + \\\n",
    "        #     (-coeffs_tot[order_folders[\"Mnu_pp\"]] + 4 * coeffs_tot[order_folders['Mnu_p']] - 3 * zeldovich_coeffs_avg) / (COSMOPAR[i][5]) + \\\n",
    "        #     (coeffs_tot[order_folders[\"Mnu_p\"]] - zeldovich_coeffs_avg) / COSMOPAR[i][5]\n",
    "        derivates[order_dimension['Mnu']] = (coeffs_tot[order_folders[\"Mnu_p\"]] - zeldovich_coeffs_avg) / (0.1)\n",
    "            # (coeffs_tot[order_folders['Mnu_ppp']] - 12 * coeffs_tot[order_folders['Mnu_pp']] + 32 * coeffs_tot[order_folders[\"Mnu_p\"]] - 12 * zeldovich_coeffs_avg) / (12 * 0.1) + \\\n",
    "            # (-coeffs_tot[order_folders[\"Mnu_pp\"]] + 4 * coeffs_tot[order_folders['Mnu_p']] - 3 * zeldovich_coeffs_avg) / (2*0.1) + \\\n",
    "            # (coeffs_tot[order_folders[\"Mnu_p\"]] - zeldovich_coeffs_avg) / (0.1)\n",
    "        # derivates[order_dimension['Mnu']] = (coeffs_tot[order_folders[\"Mnu_p\"]] - zeldovich_coeffs_avg) / (0.1)\n",
    "        assert derivates[order_dimension['Mnu']].all() > 1e-3, \"Derivates of neutrino mass is null\"\n",
    "    elif \"Ob\" in i:\n",
    "        derivates[order_dimension['Ob']] = \\\n",
    "            (coeffs_tot[order_folders[i+\"2_p\"]]-coeffs_tot[order_folders[i+\"2_m\"]]) \\\n",
    "              / (2 * VarCosmoPar['d_'+i+\"2\"] * fiducial_vals[i] )\n",
    "        assert derivates[order_dimension['Ob']].all() > 1e-3, \"Derivates of Omaga barion is null\""
   ]
  },
  {
   "cell_type": "code",
   "execution_count": 9,
   "metadata": {},
   "outputs": [],
   "source": [
    "parameter_name = ['Om ', 'Ob ', 'h  ', 'ns ', 's8 ', 'w  ', 'Mnu']"
   ]
  },
  {
   "cell_type": "code",
   "execution_count": 10,
   "metadata": {},
   "outputs": [
    {
     "name": "stdout",
     "output_type": "stream",
     "text": [
      "¶ WARNING: correlation matrix is singular\n"
     ]
    }
   ],
   "source": [
    "CorrMat = correlation_matrix(fiducial_coeffs)\n",
    "H = Hartlap(CorrMat, 1000)\n",
    "Fish = np.zeros((7,7))\n",
    "for a in range(7):\n",
    "    for b in range(7):\n",
    "        Fish[a, b] = np.sum(derivates[a] * H * derivates[b])"
   ]
  },
  {
   "attachments": {},
   "cell_type": "markdown",
   "metadata": {},
   "source": [
    "import scipy as sp\n",
    "inverse = np.linalg.inv(Fi)\n",
    "results = []\n",
    "for i in range(len(inverse)):\n",
    "    results.append(inverse[i, i])"
   ]
  },
  {
   "cell_type": "code",
   "execution_count": 11,
   "metadata": {},
   "outputs": [],
   "source": [
    "corr = np.corrcoef(fiducial_coeffs)\n",
    "H = Hartlap(CorrMat, 1000)\n",
    "Fish = np.zeros((7,7))\n",
    "for a in range(7):\n",
    "    for b in range(7):\n",
    "        Fish[a, b] = np.sum(derivates[a] * (H * derivates[b]))"
   ]
  },
  {
   "cell_type": "code",
   "execution_count": 12,
   "metadata": {},
   "outputs": [
    {
     "name": "stdout",
     "output_type": "stream",
     "text": [
      "Om  :  1.5529175758844955e-08j\n",
      "Ob  :  5.603864202919659e-09j\n",
      "h   :  (4.418870546101451e-09+0j)\n",
      "ns  :  1.800004997002961e-10j\n",
      "s8  :  (1.7514715217856428e-10+0j)\n",
      "w   :  (5.141183617002253e-13+0j)\n",
      "Mnu :  4.3938332078403336e-12j\n"
     ]
    }
   ],
   "source": [
    "inverse = np.linalg.inv(Fish)\n",
    "results = []\n",
    "for i in range(len(inverse)):\n",
    "    results.append(inverse[i, i])\n",
    "\n",
    "constrains = (sp.linalg.eig(inverse))[0]\n",
    "constrains = constrains ** 0.5\n",
    "\n",
    "for i in range(len(constrains)):\n",
    "    print(parameter_name[i], \": \", constrains[i])"
   ]
  },
  {
   "cell_type": "code",
   "execution_count": 13,
   "metadata": {},
   "outputs": [
    {
     "data": {
      "text/plain": [
       "(1000, 1000)"
      ]
     },
     "execution_count": 13,
     "metadata": {},
     "output_type": "execute_result"
    }
   ],
   "source": [
    "np.shape(corr)"
   ]
  },
  {
   "cell_type": "code",
   "execution_count": 14,
   "metadata": {},
   "outputs": [
    {
     "data": {
      "text/plain": [
       "1.3333325480728392e+135"
      ]
     },
     "execution_count": 14,
     "metadata": {},
     "output_type": "execute_result"
    }
   ],
   "source": [
    "np.linalg.det(Fish)"
   ]
  },
  {
   "attachments": {},
   "cell_type": "markdown",
   "metadata": {},
   "source": [
    "# BEST PROPOSAL"
   ]
  },
  {
   "cell_type": "code",
   "execution_count": 15,
   "metadata": {},
   "outputs": [],
   "source": [
    "# fids = np.array(fiducial_coeffs).reshape((75, 1000))\n",
    "fids = np.array(fiducial_coeffs).transpose()\n",
    "corr2 = np.corrcoef(fids)\n",
    "cov2 = np.cov(fids)\n",
    "# print(cov2)\n",
    "# print(np.linalg.det(cov2))\n",
    "# print(np.shape(cov2))\n",
    "H2 = Hartlap(cov2, 1000)\n",
    "Fish2 = np.zeros((7,7))\n",
    "for a in range(7):\n",
    "    for b in range(7):\n",
    "        Fish2[a, b] = np.sum(derivates[a] * (H2 * derivates[b]))"
   ]
  },
  {
   "cell_type": "code",
   "execution_count": 16,
   "metadata": {},
   "outputs": [
    {
     "name": "stdout",
     "output_type": "stream",
     "text": [
      "Om  :  0.00048376555688353314\n",
      "Ob  :  0.002274492036696267\n",
      "h   :  0.04047173717133039\n",
      "ns  :  0.00984716348567532\n",
      "s8  :  0.011980583633679608\n",
      "w   :  0.10279398346263864\n",
      "Mnu :  0.10271430899558716\n"
     ]
    }
   ],
   "source": [
    "inverse2 = np.linalg.inv(Fish2)\n",
    "diagonal2 = []\n",
    "for i in range(len(inverse2)):\n",
    "    diagonal2.append(np.abs(inverse2[i, i])**0.5)\n",
    "for i in range(len(diagonal2)):\n",
    "    print(parameter_name[i], \": \", np.abs(diagonal2[i]))"
   ]
  },
  {
   "attachments": {},
   "cell_type": "markdown",
   "metadata": {},
   "source": [
    "### DIAGONALIZING"
   ]
  },
  {
   "attachments": {},
   "cell_type": "markdown",
   "metadata": {},
   "source": [
    "constrains2 = (sp.linalg.eig(inverse2))[0]\n",
    "constrains2 = constrains2 ** 0.5\n",
    "\n",
    "for i in range(len(constrains2)):\n",
    "    print(parameter_name[i], \": \", constrains2[i])\n",
    "print()\n",
    "for i in range(len(constrains2)):\n",
    "    print(parameter_name[i], \": \", np.abs(constrains2[i]))"
   ]
  },
  {
   "cell_type": "code",
   "execution_count": 17,
   "metadata": {},
   "outputs": [
    {
     "data": {
      "image/png": "[encoded data removed]",
      "text/plain": [
       "<Figure size 640x480 with 2 Axes>"
      ]
     },
     "metadata": {},
     "output_type": "display_data"
    }
   ],
   "source": [
    "sns.heatmap(corr2.transpose())\n",
    "plt.gca().invert_yaxis()"
   ]
  }
 ],
 "metadata": {
  "kernelspec": {
   "display_name": "venv",
   "language": "python",
   "name": "python3"
  },
  "language_info": {
   "codemirror_mode": {
    "name": "ipython",
    "version": 3
   },
   "file_extension": ".py",
   "mimetype": "text/x-python",
   "name": "python",
   "nbconvert_exporter": "python",
   "pygments_lexer": "ipython3",
   "version": "3.10.4"
  },
  "orig_nbformat": 4
 },
 "nbformat": 4,
 "nbformat_minor": 2
}
