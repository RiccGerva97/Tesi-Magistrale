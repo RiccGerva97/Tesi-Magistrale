{
 "cells": [
  {
   "cell_type": "code",
   "execution_count": 15,
   "metadata": {},
   "outputs": [],
   "source": [
    "import numpy as np\n",
    "import getopt\n",
    "from tqdm import tqdm\n",
    "import os\n",
    "import pickle"
   ]
  },
  {
   "cell_type": "code",
   "execution_count": 16,
   "metadata": {},
   "outputs": [],
   "source": [
    "def correlation_matrix(m):\n",
    "    \"\"\"Calculates the correlation matrix of matrix m_ij.\"\"\"\n",
    "    avg = np.average(m, axis=0)\n",
    "    dim = len(avg)\n",
    "    # ~~~~~~~~~~~~~~~~~~~~~~~~~~~~~~~~~~~~~~~~~~~~~~~~~~~~~~~~~~~~~~~~~~~~\n",
    "    # VARIATION\n",
    "    sigma = []\n",
    "    for i in range(dim):\n",
    "        sigma.append(np.sum((avg[i] - m[i])**2))\n",
    "    sigma = np.sqrt(sigma)\n",
    "    \n",
    "    sigma_bis = []\n",
    "    for i in range(dim):\n",
    "        cum = 0\n",
    "        for j in range(len(m[i])):\n",
    "            cum += (avg[i] - m[i][j])**2\n",
    "        sigma_bis.append(cum)\n",
    "    sigma_bis = np.sqrt(sigma_bis)        \n",
    "    # ~~~~~~~~~~~~~~~~~~~~~~~~~~~~~~~~~~~~~~~~~~~~~~~~~~~~~~~~~~~~~~~~~~~~\n",
    "    # CORRELATION MATRIX\n",
    "    CORR = np.zeros((dim, dim))\n",
    "    for i in range(dim):\n",
    "        for j in range(dim):\n",
    "            cum = 0\n",
    "            for k in range(len(m[i])):\n",
    "                cum += (avg[i] - m[i][k])*(avg[j] - m[j][k])\n",
    "            CORR[i, j] = cum  / (sigma_bis[i] * sigma_bis[j])\n",
    "\n",
    "    if np.linalg.det(CORR) == 0:\n",
    "        print(\"¶ WARNING: correlation matrix is singular\")\n",
    "    \n",
    "    return CORR\n",
    "\n",
    "def Hartlap(mat, Nr = 350):\n",
    "    \"\"\"Calculates inverse matrix using Hartlap correction.\n",
    "    Arguments:\n",
    "    - `mat`: input matrix to invert\n",
    "    - `Nr`: nuber of realization used o calculated the matrix\n",
    "    \"\"\"\n",
    "    return (Nr-len(mat)-2)/(Nr-1)*np.linalg.inv(mat)\n",
    "\n",
    "def info_name(name):\n",
    "    \"\"\"Obtain realization information from namefile\"\"\"\n",
    "    print(\"TYPE: \", type(name))\n",
    "    info = name.split('_')[-3:]\n",
    "    print(\"TYPE: \", info, \"\\n\", type(info))\n",
    "    info[2] = info[2].replace(\".wst\", \"\")\n",
    "    N_hgrid = info[0]\n",
    "    N_WSTgrid = info[1]\n",
    "    n_realiz = info[2].replace(\".wst\", \"\")\n",
    "    \n",
    "    return [int(N_hgrid), int(N_WSTgrid), int(n_realiz)]\n",
    "\n",
    "def cosmo_parser(name):\n",
    "    \"\"\"Obtain cosmology from .wst file\"\"\"\n",
    "    info = name.split('_')\n",
    "    if info[0] == \"fiducial\":\n",
    "        return info[0]\n",
    "    elif info[0] == \"zeldovich\":\n",
    "        return info[0]\n",
    "    else:\n",
    "        return info[0] + \"_\" + info[1]"
   ]
  },
  {
   "cell_type": "code",
   "execution_count": 17,
   "metadata": {},
   "outputs": [
    {
     "data": {
      "text/plain": [
       "'Values of fiducial cosmological parameters.\\n'"
      ]
     },
     "execution_count": 17,
     "metadata": {},
     "output_type": "execute_result"
    }
   ],
   "source": [
    "order_folders = {\n",
    "    'fiducial'  : 0,\n",
    "    'h_m'       : 1,\n",
    "    'h_p'       : 2,\n",
    "    'Mnu_p'     : 3,\n",
    "    'Mnu_pp'    : 4,\n",
    "    'Mnu_ppp'   : 5,\n",
    "    'ns_m'      : 6,\n",
    "    'ns_p'      : 7,\n",
    "    'Ob2_m'     : 8,\n",
    "    'Ob2_p'     : 9,\n",
    "    'Om_m'      : 10,\n",
    "    'Om_p'      : 11,\n",
    "    's8_m'      : 12,\n",
    "    's8_p'      : 13,\n",
    "    'w_m'       : 14,\n",
    "    'w_p'       : 15,\n",
    "    'zeldovich' : 16\n",
    "}\n",
    "\n",
    "cosmological_pars = {\n",
    "    'Om'  : 0,\n",
    "    'Ob'  : 1,\n",
    "    'h'   : 2,\n",
    "    'ns'  : 3,\n",
    "    's8'  : 4,\n",
    "    'w'   : 5,\n",
    "    'Mnu' : 6\n",
    "}\n",
    "\n",
    "order_dimension = {\n",
    "    'Om'  : 0,\n",
    "    'Ob'  : 1,\n",
    "    'Ob2' : 1,\n",
    "    'h'   : 2,\n",
    "    'ns'  : 3,\n",
    "    's8'  : 4,\n",
    "    'w'   : 5,\n",
    "    'Mnu' : 6\n",
    "}\n",
    "\n",
    "COSMOPAR = {\n",
    "#                   | Om   | Ob   |   h   |  n_s  | s_8 | Mnu | w |\n",
    "\n",
    "    'fiducial' :    [0.3175, 0.049, 0.6711, 0.9624, 0.834, 0, -1],\n",
    "    'zeldovich':    [0.3175, 0.049, 0.6711, 0.9624, 0.834, 0, -1],\n",
    "    \n",
    "    'Mnu_p' :       [0.3175, 0.049, 0.6711, 0.9624, 0.834, 0.1, -1],\n",
    "    'Mnu_pp' :      [0.3175, 0.049, 0.6711, 0.9624, 0.834, 0.2, -1],\n",
    "    'Mnu_ppp' :     [0.3175, 0.049, 0.6711, 0.9624, 0.834, 0.4, -1],\n",
    "    \n",
    "    'h_m' :         [0.3175, 0.049, 0.6511, 0.9624, 0.834, 0, -1],\n",
    "    'h_p' :         [0.3175, 0.049, 0.6911, 0.9624, 0.834, 0, -1],\n",
    "    \n",
    "    'ns_m' :        [0.3175, 0.049, 0.6711, 0.9424, 0.834, 0, -1],\n",
    "    'ns_p' :        [0.3175, 0.049, 0.6711, 0.9824, 0.834, 0, -1],\n",
    "    \n",
    "    'Ob_m' :        [0.3175, 0.048, 0.6711, 0.9624, 0.834, 0, -1],\n",
    "    'Ob_p' :        [0.3175, 0.050, 0.6711, 0.9624, 0.834, 0, -1],\n",
    "    'Ob2_m' :       [0.3175, 0.047, 0.6711, 0.9624, 0.834, 0, -1],\n",
    "    'Ob2_p' :       [0.3175, 0.051, 0.6711, 0.9624, 0.834, 0, -1],\n",
    "    \n",
    "    'Om_m' :        [0.3075, 0.049, 0.6711, 0.9624, 0.834, 0, -1],\n",
    "    'Om_p' :        [0.3275, 0.049, 0.6711, 0.9624, 0.834, 0, -1],\n",
    "    \n",
    "    's8_m' :        [0.3175, 0.049, 0.6711, 0.9624, 0.819, 0, -1],\n",
    "    's8_p' :        [0.3175, 0.049, 0.6711, 0.9624, 0.849, 0, -1],\n",
    "    \n",
    "    'w_m' :         [0.3175, 0.049, 0.6711, 0.9624, 0.834, 0, -0.95],\n",
    "    'w_p' :         [0.3175, 0.049, 0.6711, 0.9624, 0.834, 0, -1.05]\n",
    "}\n",
    "\"\"\"\n",
    "Dictionary to assegnate to a cosmology its parameters\n",
    "Ordered pairing cosmologies and the first one in with _m, the second one _p\n",
    "\"\"\"\n",
    "\n",
    "VarCosmoPar = {\n",
    "    'd_h'  : 0.02,\n",
    "    'd_ns' : 0.02,\n",
    "    'd_Ob' : 0.001,\n",
    "    'd_Ob2': 0.002,\n",
    "    'd_Om' : 0.01,\n",
    "    'd_s8' : 0.015,\n",
    "    'd_w'  : -0.05\n",
    "}\n",
    "\"\"\"Values of deviations from fiducial cosmological parameters.\n",
    "\"\"\"\n",
    "\n",
    "fiducial_vals = {\n",
    "    'Ob'  : 0.3175,\n",
    "    'Ob2' : 0.3175,\n",
    "    'Om'  : 0.049,\n",
    "    'h'   : 0.6711,\n",
    "    'n_s' : 0.9624,\n",
    "    'ns'  : 0.9624,\n",
    "    's_8' : 0.834,\n",
    "    's8'  : 0.834,\n",
    "    'Mnu' : 0,\n",
    "    'w'   : -1\n",
    "}\n",
    "\"\"\"Values of fiducial cosmological parameters.\n",
    "\"\"\""
   ]
  },
  {
   "cell_type": "code",
   "execution_count": 18,
   "metadata": {},
   "outputs": [],
   "source": [
    "root = \"/home/fuffolo97/TESI/WST-files_08_08/WST-files_08_08/\"\n",
    "folders = ['fiducial', 'zeldovich', 'h_m', 'h_p', 'Mnu_p', 'Mnu_pp' ,'Mnu_ppp', \\\n",
    "           'ns_m', 'ns_p', 'Ob2_m', 'Ob2_p', \\\n",
    "           'Om_m', 'Om_p', 's8_m', 's8_p', 'w_m', 'w_p']\n",
    "cosmologies = ['fiducial', 'zeldovich', 'h_m', 'h_p', 'Mnu_p', 'Mnu_pp' ,'Mnu_ppp', \\\n",
    "           'ns_m', 'ns_p', 'Ob2_m', 'Ob2_p', \\\n",
    "           'Om_m', 'Om_p', 's8_m', 's8_p', 'w_m', 'w_p']\n",
    "\n",
    "fiducial_coeffs = []\n",
    "zeldovich_coeffs = []"
   ]
  },
  {
   "cell_type": "code",
   "execution_count": 19,
   "metadata": {},
   "outputs": [
    {
     "data": {
      "text/plain": [
       "['Ob2_m_coefficients_M_Ns_s08_q08_256_350.wst',\n",
       " 'Om_m_coefficients_M_Ns_s08_q08_256_350.wst',\n",
       " 'Mnu_pp_coefficients_M_Ns_s08_q08_256_350.wst',\n",
       " 's8_p_coefficients_M_Ns_s08_q08_256_350.wst',\n",
       " 'w_p_coefficients_M_Ns_s08_q08_256_350.wst',\n",
       " 'Om_p_coefficients_M_Ns_s08_q08_256_350.wst',\n",
       " 'h_m_coefficients_M_Ns_s08_q08_256_350.wst',\n",
       " 'w_m_coefficients_M_Ns_s08_q08_256_350.wst',\n",
       " 'Ob2_p_coefficients_M_Ns_s08_q08_256_350.wst',\n",
       " 'ns_m_coefficients_M_Ns_s08_q08_256_350.wst',\n",
       " 'Mnu_p_coefficients_M_Ns_s08_q08_256_350.wst',\n",
       " 'Mnu_ppp_coefficients_M_Ns_s08_q08_256_350.wst',\n",
       " 'zeldovich_coefficients_M_Ns_s08_q08_256_500.wst',\n",
       " 'ns_p_coefficients_M_Ns_s08_q08_256_350.wst',\n",
       " 'fiducial_coefficients_M_Ns_s08_q08_256_1000.wst',\n",
       " 'h_p_coefficients_M_Ns_s08_q08_256_350.wst',\n",
       " 's8_m_coefficients_M_Ns_s08_q08_256_350.wst']"
      ]
     },
     "execution_count": 19,
     "metadata": {},
     "output_type": "execute_result"
    }
   ],
   "source": [
    "coeffs_tot = np.zeros((len(cosmologies), 75))\n",
    "files_to_read_raw = os.listdir(root)\n",
    "files_to_read = []\n",
    "for i in range(len(files_to_read_raw)):\n",
    "    if \"400\" not in files_to_read_raw[i] and \"_RDs_\" not in files_to_read_raw[i]: files_to_read.append(files_to_read_raw[i])\n",
    "files_to_read"
   ]
  },
  {
   "cell_type": "code",
   "execution_count": 20,
   "metadata": {},
   "outputs": [
    {
     "name": "stdout",
     "output_type": "stream",
     "text": [
      "['Ob2_m_coefficients_M_Ns_s08_q08_256_350.wst', 'Om_m_coefficients_M_Ns_s08_q08_256_350.wst', 'Mnu_pp_coefficients_M_Ns_s08_q08_256_350.wst', 's8_p_coefficients_M_Ns_s08_q08_256_350.wst', 'w_p_coefficients_M_Ns_s08_q08_256_350.wst', 'Om_p_coefficients_M_Ns_s08_q08_256_350.wst', 'h_m_coefficients_M_Ns_s08_q08_256_350.wst', 'w_m_coefficients_M_Ns_s08_q08_256_350.wst', 'Ob2_p_coefficients_M_Ns_s08_q08_256_350.wst', 'ns_m_coefficients_M_Ns_s08_q08_256_350.wst', 'Mnu_p_coefficients_M_Ns_s08_q08_256_350.wst', 'Mnu_ppp_coefficients_M_Ns_s08_q08_256_350.wst', 'zeldovich_coefficients_M_Ns_s08_q08_256_500.wst', 'ns_p_coefficients_M_Ns_s08_q08_256_350.wst', 'fiducial_coefficients_M_Ns_s08_q08_256_1000.wst', 'h_p_coefficients_M_Ns_s08_q08_256_350.wst', 's8_m_coefficients_M_Ns_s08_q08_256_350.wst']\n",
      "A,  Ob2_m_coefficients_M_Ns_s08_q08_256_350.wst\n",
      "A,  Om_m_coefficients_M_Ns_s08_q08_256_350.wst\n",
      "A,  Mnu_pp_coefficients_M_Ns_s08_q08_256_350.wst\n",
      "A,  s8_p_coefficients_M_Ns_s08_q08_256_350.wst\n",
      "A,  w_p_coefficients_M_Ns_s08_q08_256_350.wst\n",
      "A,  Om_p_coefficients_M_Ns_s08_q08_256_350.wst\n",
      "A,  h_m_coefficients_M_Ns_s08_q08_256_350.wst\n",
      "A,  w_m_coefficients_M_Ns_s08_q08_256_350.wst\n",
      "A,  Ob2_p_coefficients_M_Ns_s08_q08_256_350.wst\n",
      "A,  ns_m_coefficients_M_Ns_s08_q08_256_350.wst\n",
      "A,  Mnu_p_coefficients_M_Ns_s08_q08_256_350.wst\n",
      "A,  Mnu_ppp_coefficients_M_Ns_s08_q08_256_350.wst\n",
      "C,  zeldovich_coefficients_M_Ns_s08_q08_256_500.wst\n",
      "(75,)\n",
      "A,  ns_p_coefficients_M_Ns_s08_q08_256_350.wst\n",
      "B,  fiducial_coefficients_M_Ns_s08_q08_256_1000.wst\n",
      "(75,)\n",
      "A,  h_p_coefficients_M_Ns_s08_q08_256_350.wst\n",
      "A,  s8_m_coefficients_M_Ns_s08_q08_256_350.wst\n"
     ]
    },
    {
     "name": "stderr",
     "output_type": "stream",
     "text": [
      "/home/fuffolo97/anaconda3/envs/venv/lib/python3.10/site-packages/numpy/lib/function_base.py:518: RuntimeWarning: Mean of empty slice.\n",
      "  avg = a.mean(axis, **keepdims_kw)\n",
      "/home/fuffolo97/anaconda3/envs/venv/lib/python3.10/site-packages/numpy/core/_methods.py:192: RuntimeWarning: invalid value encountered in scalar divide\n",
      "  ret = ret.dtype.type(ret / rcount)\n"
     ]
    }
   ],
   "source": [
    "coeffs_tot = np.zeros((len(cosmologies), 75))\n",
    "files_to_read_raw = os.listdir(root)\n",
    "files_to_read = []\n",
    "for i in range(len(files_to_read_raw)):\n",
    "    if \"400\" not in files_to_read_raw[i] and \"_RDs_\" not in files_to_read_raw[i]: files_to_read.append(files_to_read_raw[i])\n",
    "print(files_to_read)\n",
    "for i in range(len(files_to_read)):\n",
    "    coeffs_cosm = []\n",
    "    file_reading = files_to_read[i]\n",
    "\n",
    "    cosmo = cosmo_parser(file_reading)\n",
    "    assert cosmo in file_reading\n",
    "    # print(\"COSMO KEY: \", cosmo)\n",
    "    index = order_folders[cosmo]\n",
    "    \n",
    "    if \"fiducial\" not in file_reading and \"zeldovich\" not in file_reading:\n",
    "        print(\"A, \", file_reading)\n",
    "        with open(root + \"/\" + file_reading, 'rb') as Ff:\n",
    "            while True:\n",
    "                try:\n",
    "                    coeffs_cosm.append(pickle.load(Ff))\n",
    "                except EOFError:\n",
    "                    break\n",
    "                except RuntimeWarning:\n",
    "                    print(\"problem here: \", file_reading)\n",
    "\n",
    "    elif \"fiducial\" in file_reading:\n",
    "        print(\"B, \", file_reading)\n",
    "        with open(root + \"/\" + file_reading, 'rb') as Ff:\n",
    "            while True:\n",
    "                try:\n",
    "                    fiducial_coeffs.append(pickle.load(Ff))\n",
    "                except EOFError:\n",
    "                    break\n",
    "                except RuntimeWarning:\n",
    "                    print(\"problem here: \", file_reading)\n",
    "        fiducial_coeffs_avg = np.average(fiducial_coeffs, axis=0)\n",
    "        # print(fiducial_coeffs_avg)\n",
    "        print(np.shape(fiducial_coeffs_avg))\n",
    "\n",
    "    elif \"zeldovich\" in file_reading:\n",
    "        print(\"C, \", file_reading)\n",
    "        with open(root + \"/\" + file_reading, 'rb') as Ff:\n",
    "            while True:\n",
    "                try:\n",
    "                    zeldovich_coeffs.append(pickle.load(Ff))\n",
    "                except EOFError:\n",
    "                    break\n",
    "                except RuntimeWarning:\n",
    "                    print(\"problem here: \", file_reading)\n",
    "        # print(zeldovich_coeffs)\n",
    "        zeldovich_coeffs_avg = np.average(zeldovich_coeffs, axis=0)\n",
    "        # print(zeldovich_coeffs_avg)\n",
    "        print(np.shape(zeldovich_coeffs_avg))\n",
    "    else:\n",
    "        assert False, \"\\n   ERROR in reading WST files, cosmology can't be propely interpreted.\\n\"\n",
    "\n",
    "    # USING average  value per coefficient in cosmology\n",
    "    coeffs_tot[index] = np.average(coeffs_cosm, axis=0)"
   ]
  },
  {
   "cell_type": "code",
   "execution_count": 21,
   "metadata": {},
   "outputs": [],
   "source": [
    "derivates = np.zeros((len(cosmological_pars), len(coeffs_tot[0])))\n",
    "n_seen = 0"
   ]
  },
  {
   "cell_type": "code",
   "execution_count": 22,
   "metadata": {},
   "outputs": [],
   "source": [
    "for i in cosmological_pars:\n",
    "    if \"Mnu\" not in i and \"Ob\" not in i:\n",
    "        ind = order_dimension[i]\n",
    "        derivates[ind]=(coeffs_tot[order_folders[i+\"_p\"]]-coeffs_tot[order_folders[i+\"_m\"]])\\\n",
    "                    /  (2 * VarCosmoPar['d_'+i] * fiducial_vals[i] )\n",
    "        assert derivates[order_dimension[i]].all() > 1e-3, f\"Derivates of {i} is null\"\n",
    "    elif \"Mun\" in i:\n",
    "        # derivates[order_dimension['Mnu']] = \\\n",
    "        #     (coeffs_tot[order_folders['Mnu_ppp']] - 12 * coeffs_tot[order_folders['Mnu_pp']] + 32 * coeffs_tot[order_folders[\"Mnu_p\"]] - 12 * coeffs_tot[order_folders['zeldovich']]) / (12 * COSMOPAR[i][5]) - \\\n",
    "        #     (coeffs_tot[order_folders[\"Mnu_pp\"]] - 4 * coeffs_tot[order_folders['Mnu_p']] - 3 * coeffs_tot[order_folders['zeldovich']]) / (COSMOPAR[i][5]) + \\\n",
    "        #     (coeffs_tot[order_folders[\"Mnu_ppp\"]] - coeffs_tot[order_folders['zeldovich']]) / COSMOPAR[i][5]\n",
    "        # derivates[order_dimension['Mnu']] = (coeffs_tot[order_folders['Mnu_ppp']] - 12 * coeffs_tot[order_folders['Mnu_pp']] + 32 * coeffs_tot[order_folders[\"Mnu_p\"]] - 12 * zeldovich_coeffs_avg) / (12 * COSMOPAR[i][5]) + \\\n",
    "        #     (-coeffs_tot[order_folders[\"Mnu_pp\"]] + 4 * coeffs_tot[order_folders['Mnu_p']] - 3 * zeldovich_coeffs_avg) / (COSMOPAR[i][5]) + \\\n",
    "        #     (coeffs_tot[order_folders[\"Mnu_p\"]] - zeldovich_coeffs_avg) / COSMOPAR[i][5]\n",
    "        # derivates[order_dimension['Mnu']] = (coeffs_tot[order_folders['Mnu_ppp']] - 12 * coeffs_tot[order_folders['Mnu_pp']] + 32 * coeffs_tot[order_folders[\"Mnu_p\"]] - 12 * zeldovich_coeffs_avg) / (12 * 0.1) + \\\n",
    "        #     (-coeffs_tot[order_folders[\"Mnu_pp\"]] + 4 * coeffs_tot[order_folders['Mnu_p']] - 3 * zeldovich_coeffs_avg) / (2*0.1) + \\\n",
    "        #     (coeffs_tot[order_folders[\"Mnu_p\"]] - zeldovich_coeffs_avg) / (0.1)\n",
    "        derivates[order_dimension['Mnu']] = (coeffs_tot[order_folders[\"Mnu_p\"]] - zeldovich_coeffs_avg) / (0.1)\n",
    "        assert derivates[order_dimension['Mnu']].all() > 1e-3, \"Derivates of neutrino mass is null\"\n",
    "    elif \"Ob\" in i:\n",
    "        derivates[order_dimension['Ob']] = \\\n",
    "            (coeffs_tot[order_folders[i+\"2_p\"]]-coeffs_tot[order_folders[i+\"2_m\"]]) \\\n",
    "              / (2 * VarCosmoPar['d_'+i+\"2\"] * fiducial_vals[i] )\n",
    "        assert derivates[order_dimension['Ob']].all() > 1e-3, \"Derivates of Omaga barion is null\""
   ]
  },
  {
   "cell_type": "code",
   "execution_count": 23,
   "metadata": {},
   "outputs": [
    {
     "name": "stdout",
     "output_type": "stream",
     "text": [
      "¶ WARNING: correlation matrix is singular\n"
     ]
    }
   ],
   "source": [
    "CorrMat = correlation_matrix(fiducial_coeffs)\n",
    "H = Hartlap(CorrMat, 1000)\n",
    "Fish = np.zeros((7,7))\n",
    "for a in range(7):\n",
    "    for b in range(7):\n",
    "        Fish[a, b] = np.sum(derivates[a] * H * derivates[b])"
   ]
  },
  {
   "attachments": {},
   "cell_type": "markdown",
   "metadata": {},
   "source": [
    "import scipy as sp\n",
    "inverse = np.linalg.inv(Fi)\n",
    "results = []\n",
    "for i in range(len(inverse)):\n",
    "    results.append(inverse[i, i])"
   ]
  },
  {
   "cell_type": "code",
   "execution_count": 24,
   "metadata": {},
   "outputs": [],
   "source": [
    "corr = np.corrcoef(fiducial_coeffs)\n",
    "H = Hartlap(CorrMat, 1000)\n",
    "Fish = np.zeros((7,7))\n",
    "for a in range(7):\n",
    "    for b in range(7):\n",
    "        Fish[a, b] = np.sum(derivates[a] * H * derivates[b])"
   ]
  },
  {
   "cell_type": "code",
   "execution_count": 25,
   "metadata": {},
   "outputs": [
    {
     "data": {
      "text/plain": [
       "(1000, 1000)"
      ]
     },
     "execution_count": 25,
     "metadata": {},
     "output_type": "execute_result"
    }
   ],
   "source": [
    "np.shape(corr)"
   ]
  },
  {
   "cell_type": "code",
   "execution_count": 26,
   "metadata": {},
   "outputs": [
    {
     "data": {
      "text/plain": [
       "0.0"
      ]
     },
     "execution_count": 26,
     "metadata": {},
     "output_type": "execute_result"
    }
   ],
   "source": [
    "np.linalg.det(corr)"
   ]
  },
  {
   "cell_type": "code",
   "execution_count": 27,
   "metadata": {},
   "outputs": [
    {
     "name": "stdout",
     "output_type": "stream",
     "text": [
      "0.0\n",
      "(75, 75)\n",
      "0.0\n"
     ]
    }
   ],
   "source": [
    "fids = np.array(fiducial_coeffs).reshape((75, 1000))\n",
    "corr2 = np.corrcoef(fids)\n",
    "print(np.linalg.det(corr2))\n",
    "print(np.shape(corr2))\n",
    "H = Hartlap(corr2, 1000)\n",
    "Fish = np.zeros((7,7))\n",
    "for a in range(7):\n",
    "    for b in range(7):\n",
    "        Fish[a, b] = np.sum(derivates[a] * H * derivates[b])\n",
    "print(np.linalg.det(Fish))"
   ]
  },
  {
   "cell_type": "code",
   "execution_count": 28,
   "metadata": {},
   "outputs": [
    {
     "ename": "LinAlgError",
     "evalue": "Singular matrix",
     "output_type": "error",
     "traceback": [
      "\u001b[0;31m---------------------------------------------------------------------------\u001b[0m",
      "\u001b[0;31mLinAlgError\u001b[0m                               Traceback (most recent call last)",
      "\u001b[0;32m/tmp/ipykernel_14839/3648087911.py\u001b[0m in \u001b[0;36m<module>\u001b[0;34m\u001b[0m\n\u001b[1;32m      1\u001b[0m \u001b[0;32mimport\u001b[0m \u001b[0mscipy\u001b[0m \u001b[0;32mas\u001b[0m \u001b[0msp\u001b[0m\u001b[0;34m\u001b[0m\u001b[0;34m\u001b[0m\u001b[0m\n\u001b[0;32m----> 2\u001b[0;31m \u001b[0minverse\u001b[0m \u001b[0;34m=\u001b[0m \u001b[0mnp\u001b[0m\u001b[0;34m.\u001b[0m\u001b[0mlinalg\u001b[0m\u001b[0;34m.\u001b[0m\u001b[0minv\u001b[0m\u001b[0;34m(\u001b[0m\u001b[0mFish\u001b[0m\u001b[0;34m)\u001b[0m\u001b[0;34m\u001b[0m\u001b[0;34m\u001b[0m\u001b[0m\n\u001b[0m\u001b[1;32m      3\u001b[0m \u001b[0mresults\u001b[0m \u001b[0;34m=\u001b[0m \u001b[0;34m[\u001b[0m\u001b[0;34m]\u001b[0m\u001b[0;34m\u001b[0m\u001b[0;34m\u001b[0m\u001b[0m\n\u001b[1;32m      4\u001b[0m \u001b[0;32mfor\u001b[0m \u001b[0mi\u001b[0m \u001b[0;32min\u001b[0m \u001b[0mrange\u001b[0m\u001b[0;34m(\u001b[0m\u001b[0mlen\u001b[0m\u001b[0;34m(\u001b[0m\u001b[0minverse\u001b[0m\u001b[0;34m)\u001b[0m\u001b[0;34m)\u001b[0m\u001b[0;34m:\u001b[0m\u001b[0;34m\u001b[0m\u001b[0;34m\u001b[0m\u001b[0m\n\u001b[1;32m      5\u001b[0m     \u001b[0mresults\u001b[0m\u001b[0;34m.\u001b[0m\u001b[0mappend\u001b[0m\u001b[0;34m(\u001b[0m\u001b[0minverse\u001b[0m\u001b[0;34m[\u001b[0m\u001b[0mi\u001b[0m\u001b[0;34m,\u001b[0m \u001b[0mi\u001b[0m\u001b[0;34m]\u001b[0m\u001b[0;34m)\u001b[0m\u001b[0;34m\u001b[0m\u001b[0;34m\u001b[0m\u001b[0m\n",
      "\u001b[0;32m~/anaconda3/envs/venv/lib/python3.10/site-packages/numpy/core/overrides.py\u001b[0m in \u001b[0;36minv\u001b[0;34m(*args, **kwargs)\u001b[0m\n",
      "\u001b[0;32m~/anaconda3/envs/venv/lib/python3.10/site-packages/numpy/linalg/linalg.py\u001b[0m in \u001b[0;36minv\u001b[0;34m(a)\u001b[0m\n\u001b[1;32m    536\u001b[0m     \u001b[0msignature\u001b[0m \u001b[0;34m=\u001b[0m \u001b[0;34m'D->D'\u001b[0m \u001b[0;32mif\u001b[0m \u001b[0misComplexType\u001b[0m\u001b[0;34m(\u001b[0m\u001b[0mt\u001b[0m\u001b[0;34m)\u001b[0m \u001b[0;32melse\u001b[0m \u001b[0;34m'd->d'\u001b[0m\u001b[0;34m\u001b[0m\u001b[0;34m\u001b[0m\u001b[0m\n\u001b[1;32m    537\u001b[0m     \u001b[0mextobj\u001b[0m \u001b[0;34m=\u001b[0m \u001b[0mget_linalg_error_extobj\u001b[0m\u001b[0;34m(\u001b[0m\u001b[0m_raise_linalgerror_singular\u001b[0m\u001b[0;34m)\u001b[0m\u001b[0;34m\u001b[0m\u001b[0;34m\u001b[0m\u001b[0m\n\u001b[0;32m--> 538\u001b[0;31m     \u001b[0mainv\u001b[0m \u001b[0;34m=\u001b[0m \u001b[0m_umath_linalg\u001b[0m\u001b[0;34m.\u001b[0m\u001b[0minv\u001b[0m\u001b[0;34m(\u001b[0m\u001b[0ma\u001b[0m\u001b[0;34m,\u001b[0m \u001b[0msignature\u001b[0m\u001b[0;34m=\u001b[0m\u001b[0msignature\u001b[0m\u001b[0;34m,\u001b[0m \u001b[0mextobj\u001b[0m\u001b[0;34m=\u001b[0m\u001b[0mextobj\u001b[0m\u001b[0;34m)\u001b[0m\u001b[0;34m\u001b[0m\u001b[0;34m\u001b[0m\u001b[0m\n\u001b[0m\u001b[1;32m    539\u001b[0m     \u001b[0;32mreturn\u001b[0m \u001b[0mwrap\u001b[0m\u001b[0;34m(\u001b[0m\u001b[0mainv\u001b[0m\u001b[0;34m.\u001b[0m\u001b[0mastype\u001b[0m\u001b[0;34m(\u001b[0m\u001b[0mresult_t\u001b[0m\u001b[0;34m,\u001b[0m \u001b[0mcopy\u001b[0m\u001b[0;34m=\u001b[0m\u001b[0;32mFalse\u001b[0m\u001b[0;34m)\u001b[0m\u001b[0;34m)\u001b[0m\u001b[0;34m\u001b[0m\u001b[0;34m\u001b[0m\u001b[0m\n\u001b[1;32m    540\u001b[0m \u001b[0;34m\u001b[0m\u001b[0m\n",
      "\u001b[0;32m~/anaconda3/envs/venv/lib/python3.10/site-packages/numpy/linalg/linalg.py\u001b[0m in \u001b[0;36m_raise_linalgerror_singular\u001b[0;34m(err, flag)\u001b[0m\n\u001b[1;32m     87\u001b[0m \u001b[0;34m\u001b[0m\u001b[0m\n\u001b[1;32m     88\u001b[0m \u001b[0;32mdef\u001b[0m \u001b[0m_raise_linalgerror_singular\u001b[0m\u001b[0;34m(\u001b[0m\u001b[0merr\u001b[0m\u001b[0;34m,\u001b[0m \u001b[0mflag\u001b[0m\u001b[0;34m)\u001b[0m\u001b[0;34m:\u001b[0m\u001b[0;34m\u001b[0m\u001b[0;34m\u001b[0m\u001b[0m\n\u001b[0;32m---> 89\u001b[0;31m     \u001b[0;32mraise\u001b[0m \u001b[0mLinAlgError\u001b[0m\u001b[0;34m(\u001b[0m\u001b[0;34m\"Singular matrix\"\u001b[0m\u001b[0;34m)\u001b[0m\u001b[0;34m\u001b[0m\u001b[0;34m\u001b[0m\u001b[0m\n\u001b[0m\u001b[1;32m     90\u001b[0m \u001b[0;34m\u001b[0m\u001b[0m\n\u001b[1;32m     91\u001b[0m \u001b[0;32mdef\u001b[0m \u001b[0m_raise_linalgerror_nonposdef\u001b[0m\u001b[0;34m(\u001b[0m\u001b[0merr\u001b[0m\u001b[0;34m,\u001b[0m \u001b[0mflag\u001b[0m\u001b[0;34m)\u001b[0m\u001b[0;34m:\u001b[0m\u001b[0;34m\u001b[0m\u001b[0;34m\u001b[0m\u001b[0m\n",
      "\u001b[0;31mLinAlgError\u001b[0m: Singular matrix"
     ]
    }
   ],
   "source": [
    "import scipy as sp\n",
    "inverse = np.linalg.inv(Fish)\n",
    "results = []\n",
    "for i in range(len(inverse)):\n",
    "    results.append(inverse[i, i])"
   ]
  },
  {
   "cell_type": "code",
   "execution_count": null,
   "metadata": {},
   "outputs": [],
   "source": []
  }
 ],
 "metadata": {
  "kernelspec": {
   "display_name": "venv",
   "language": "python",
   "name": "python3"
  },
  "language_info": {
   "codemirror_mode": {
    "name": "ipython",
    "version": 3
   },
   "file_extension": ".py",
   "mimetype": "text/x-python",
   "name": "python",
   "nbconvert_exporter": "python",
   "pygments_lexer": "ipython3",
   "version": "3.10.4"
  },
  "orig_nbformat": 4
 },
 "nbformat": 4,
 "nbformat_minor": 2
}
