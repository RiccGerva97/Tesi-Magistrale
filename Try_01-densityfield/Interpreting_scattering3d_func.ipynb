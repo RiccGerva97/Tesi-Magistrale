{
 "cells": [
  {
   "cell_type": "code",
   "execution_count": 20,
   "metadata": {},
   "outputs": [],
   "source": [
    "import numpy as np"
   ]
  },
  {
   "cell_type": "code",
   "execution_count": 33,
   "metadata": {},
   "outputs": [],
   "source": [
    "ord1, ord2, tot = [], [], []\n",
    "w1 = 'ABCDE'\n",
    "w2 = 'abcde'\n",
    "w3 = 'vwxyz'"
   ]
  },
  {
   "cell_type": "code",
   "execution_count": 34,
   "metadata": {},
   "outputs": [],
   "source": [
    "for l in range(5):\n",
    "    ord1_l, ord2_l = [], []\n",
    "    for j_1 in range(5):\n",
    "        ord1_l.append(w1[j_1])                    # A, B, C, D, E\n",
    "        for j_2 in range(j_1+1, 5):\n",
    "            # print(j_1, \" \", j_2)\n",
    "            ord2_l.append(w2[j_2] + w1[j_1])      # a, b, c, d, e\n",
    "        # print(\"\\n\")\n",
    "    ord1.append(w3[l] + w2[j_2] + w1[j_1])                            # v, w, x, y, z\n",
    "    ord2.append(ord2_l)\n",
    "#tot = ord1.append(ord2)\n",
    "#print(\"Ordine 1:\\n\", ord1, \"Ordine 2:\\n\",ord2)"
   ]
  },
  {
   "cell_type": "code",
   "execution_count": 35,
   "metadata": {},
   "outputs": [
    {
     "name": "stdout",
     "output_type": "stream",
     "text": [
      "(5,)\n"
     ]
    },
    {
     "data": {
      "text/plain": [
       "['veE', 'weE', 'xeE', 'yeE', 'zeE']"
      ]
     },
     "execution_count": 35,
     "metadata": {},
     "output_type": "execute_result"
    }
   ],
   "source": [
    "print(np.shape(ord1))\n",
    "ord1"
   ]
  },
  {
   "cell_type": "code",
   "execution_count": 36,
   "metadata": {},
   "outputs": [
    {
     "data": {
      "text/plain": [
       "(5, 10)"
      ]
     },
     "execution_count": 36,
     "metadata": {},
     "output_type": "execute_result"
    }
   ],
   "source": [
    "np.shape(ord2)"
   ]
  },
  {
   "cell_type": "code",
   "execution_count": 37,
   "metadata": {},
   "outputs": [
    {
     "data": {
      "text/plain": [
       "[['bA', 'cA', 'dA', 'eA', 'cB', 'dB', 'eB', 'dC', 'eC', 'eD'],\n",
       " ['bA', 'cA', 'dA', 'eA', 'cB', 'dB', 'eB', 'dC', 'eC', 'eD'],\n",
       " ['bA', 'cA', 'dA', 'eA', 'cB', 'dB', 'eB', 'dC', 'eC', 'eD'],\n",
       " ['bA', 'cA', 'dA', 'eA', 'cB', 'dB', 'eB', 'dC', 'eC', 'eD'],\n",
       " ['bA', 'cA', 'dA', 'eA', 'cB', 'dB', 'eB', 'dC', 'eC', 'eD']]"
      ]
     },
     "execution_count": 37,
     "metadata": {},
     "output_type": "execute_result"
    }
   ],
   "source": [
    "ord2"
   ]
  },
  {
   "attachments": {},
   "cell_type": "markdown",
   "metadata": {},
   "source": [
    "### Second method"
   ]
  },
  {
   "cell_type": "code",
   "execution_count": 39,
   "metadata": {},
   "outputs": [
    {
     "data": {
      "text/plain": [
       "array([[ 0,  1,  2,  3,  4],\n",
       "       [ 5,  6,  7,  8,  9],\n",
       "       [10, 11, 12, 13, 14],\n",
       "       [15, 16, 17, 18, 19],\n",
       "       [20, 21, 22, 23, 24],\n",
       "       [25, 26, 27, 28, 29],\n",
       "       [30, 31, 32, 33, 34],\n",
       "       [35, 36, 37, 38, 39],\n",
       "       [40, 41, 42, 43, 44],\n",
       "       [45, 46, 47, 48, 49],\n",
       "       [50, 51, 52, 53, 54],\n",
       "       [55, 56, 57, 58, 59],\n",
       "       [60, 61, 62, 63, 64],\n",
       "       [65, 66, 67, 68, 69],\n",
       "       [70, 71, 72, 73, 74]])"
      ]
     },
     "execution_count": 39,
     "metadata": {},
     "output_type": "execute_result"
    }
   ],
   "source": [
    "a = np.arange(75)\n",
    "v = a.reshape(15,5)\n",
    "v"
   ]
  },
  {
   "cell_type": "code",
   "execution_count": 40,
   "metadata": {},
   "outputs": [],
   "source": [
    "f, s = [], []"
   ]
  },
  {
   "cell_type": "code",
   "execution_count": 41,
   "metadata": {},
   "outputs": [],
   "source": [
    "for i in range (5):\n",
    "    for j in range(5):\n",
    "            f.append(v[j,i])\n",
    "    s.append(v[5:,i])"
   ]
  },
  {
   "cell_type": "code",
   "execution_count": 42,
   "metadata": {},
   "outputs": [
    {
     "data": {
      "text/plain": [
       "[0,\n",
       " 5,\n",
       " 10,\n",
       " 15,\n",
       " 20,\n",
       " 1,\n",
       " 6,\n",
       " 11,\n",
       " 16,\n",
       " 21,\n",
       " 2,\n",
       " 7,\n",
       " 12,\n",
       " 17,\n",
       " 22,\n",
       " 3,\n",
       " 8,\n",
       " 13,\n",
       " 18,\n",
       " 23,\n",
       " 4,\n",
       " 9,\n",
       " 14,\n",
       " 19,\n",
       " 24]"
      ]
     },
     "execution_count": 42,
     "metadata": {},
     "output_type": "execute_result"
    }
   ],
   "source": [
    "f"
   ]
  },
  {
   "cell_type": "code",
   "execution_count": 43,
   "metadata": {},
   "outputs": [
    {
     "data": {
      "text/plain": [
       "[array([25, 30, 35, 40, 45, 50, 55, 60, 65, 70]),\n",
       " array([26, 31, 36, 41, 46, 51, 56, 61, 66, 71]),\n",
       " array([27, 32, 37, 42, 47, 52, 57, 62, 67, 72]),\n",
       " array([28, 33, 38, 43, 48, 53, 58, 63, 68, 73]),\n",
       " array([29, 34, 39, 44, 49, 54, 59, 64, 69, 74])]"
      ]
     },
     "execution_count": 43,
     "metadata": {},
     "output_type": "execute_result"
    }
   ],
   "source": [
    "s"
   ]
  },
  {
   "cell_type": "code",
   "execution_count": 44,
   "metadata": {},
   "outputs": [],
   "source": [
    "# (0, 0, 1) (0, 0, 2) (0, 0, 3) (0, 0, 4) (0, 1, 2) (0, 1, 3) (0, 1, 4) (0, 2, 3) (0, 2, 4) (0, 3, 4)"
   ]
  },
  {
   "attachments": {},
   "cell_type": "markdown",
   "metadata": {},
   "source": [
    "Nell'array che contiene i coeff. del secondo ordine, la \"l\" indicizza sul primo elemento, \"j_1\" assume i valori:\n",
    "- 0: 4 volte\n",
    "- 1: 3 volte\n",
    "- 2: 2 volte\n",
    "- 3: 1 volta\n",
    "\n",
    "Nel mentre \"j_2\" assume i valori t.c.: j_1\\<j_2\\<=J"
   ]
  },
  {
   "attachments": {},
   "cell_type": "markdown",
   "metadata": {},
   "source": [
    "- (0, 4)\n",
    "- (4, 7)\n",
    "- (7, 9)\n",
    "- 9"
   ]
  },
  {
   "attachments": {},
   "cell_type": "markdown",
   "metadata": {},
   "source": [
    "- 0: 5 volte\n",
    "- 1: 4 volte\n",
    "- 2: 3 volte\n",
    "- 3: 2 volte\n",
    "- 4: 1 volta"
   ]
  },
  {
   "attachments": {},
   "cell_type": "markdown",
   "metadata": {},
   "source": [
    "- 0: 6 volte\n",
    "- 1: 5 volte\n",
    "- 2: 4 volte\n",
    "- 3: 3 volte\n",
    "- 4: 2 volte\n",
    "- 5: 1 volta"
   ]
  },
  {
   "cell_type": "markdown",
   "metadata": {},
   "source": []
  }
 ],
 "metadata": {
  "kernelspec": {
   "display_name": "Python 3",
   "language": "python",
   "name": "python3"
  },
  "language_info": {
   "codemirror_mode": {
    "name": "ipython",
    "version": 3
   },
   "file_extension": ".py",
   "mimetype": "text/x-python",
   "name": "python",
   "nbconvert_exporter": "python",
   "pygments_lexer": "ipython3",
   "version": "3.10.6 (main, Nov 14 2022, 16:10:14) [GCC 11.3.0]"
  },
  "orig_nbformat": 4,
  "vscode": {
   "interpreter": {
    "hash": "916dbcbb3f70747c44a77c7bcd40155683ae19c65e1c03b4aa3499c5328201f1"
   }
  }
 },
 "nbformat": 4,
 "nbformat_minor": 2
}
