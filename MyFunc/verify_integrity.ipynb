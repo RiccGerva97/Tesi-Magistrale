{
 "cells": [
  {
   "cell_type": "code",
   "execution_count": null,
   "metadata": {},
   "outputs": [],
   "source": [
    "import readfof"
   ]
  },
  {
   "cell_type": "code",
   "execution_count": null,
   "metadata": {},
   "outputs": [],
   "source": [
    "snapnum = 2\n",
    "root = '/media/fuffolo97/HDD1/UNI/Tesi/Halos/FoF/'\n",
    "folders = ['fiducial']\n",
    "len_dats = 150000"
   ]
  },
  {
   "cell_type": "code",
   "execution_count": null,
   "metadata": {},
   "outputs": [],
   "source": [
    "for folder in folders:\n",
    "    alredy_seen = set()\n",
    "    for i in range(len_dats):\n",
    "        snapdir = root + folder +'/%d'%i\n",
    "        datas = readfof.FoF_catalog(snapdir, snapnum, read_IDs=False)\n",
    "        if len_dats%500 == 0:\n",
    "            print(\"Calculating:\", i/len_dats*100, \"%\")\n",
    "        if (len(datas.GroupMass) == len(datas.GroupLen) == len(datas.GroupPos)):\n",
    "            continue\n",
    "        else:\n",
    "            print(\"    Error in folder: \", i)"
   ]
  },
  {
   "cell_type": "code",
   "execution_count": null,
   "metadata": {},
   "outputs": [],
   "source": []
  }
 ],
 "metadata": {
  "kernelspec": {
   "display_name": "venv",
   "language": "python",
   "name": "python3"
  },
  "language_info": {
   "codemirror_mode": {
    "name": "ipython",
    "version": 3
   },
   "file_extension": ".py",
   "mimetype": "text/x-python",
   "name": "python",
   "nbconvert_exporter": "python",
   "pygments_lexer": "ipython3",
   "version": "3.10.4"
  },
  "orig_nbformat": 4,
  "vscode": {
   "interpreter": {
    "hash": "432bbbb1169051df795428fc481fe68f2019ca6cb67b62b2f37893fa604d8822"
   }
  }
 },
 "nbformat": 4,
 "nbformat_minor": 2
}
