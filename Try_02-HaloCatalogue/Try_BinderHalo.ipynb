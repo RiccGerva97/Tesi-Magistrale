{
 "cells": [
  {
   "cell_type": "code",
   "execution_count": 1,
   "metadata": {},
   "outputs": [],
   "source": [
    "import numpy as np\n",
    "import torch\n",
    "import MAS_library as MASL #pylians\n",
    "import redshift_space_library as RSL\n",
    "\n",
    "##Per i grafici 3d indagare plotly\n",
    "from kymatio.torch import HarmonicScattering3D\n",
    "from kymatio.scattering3d.backend.torch_backend \\\n",
    "    import TorchBackend3D\n",
    "\n",
    "# Reads Quijote halo catalogues\n",
    "# https://quijote-simulations.readthedocs.io/en/latest/halos.html\n",
    "import readfof"
   ]
  },
  {
   "cell_type": "code",
   "execution_count": 12,
   "metadata": {},
   "outputs": [],
   "source": [
    "# input file\n",
    "# need to select a folder and there must be\n",
    "# a folder named '/groups_00*snapnum*'\n",
    "snapdir = 'https://binder.flatironinstitute.org/hub/user/lab/data/Halos/FoF/fiducial/0'\n",
    "# snapdir = '/home/fuffolo97/TESI/Try_02-HaloCatalogue'\n",
    "snapnum = 2\n",
    "\n",
    "# determine the reìdshift of the catalogue\n",
    "z_dict = {4:0.0, 3:0.5, 2:1.0, 1:2.0, 0:3.0}\n",
    "redshift = z_dict[snapnum]"
   ]
  }
 ],
 "metadata": {
  "kernelspec": {
   "display_name": "venv",
   "language": "python",
   "name": "python3"
  },
  "language_info": {
   "codemirror_mode": {
    "name": "ipython",
    "version": 3
   },
   "file_extension": ".py",
   "mimetype": "text/x-python",
   "name": "python",
   "nbconvert_exporter": "python",
   "pygments_lexer": "ipython3",
   "version": "3.10.4 (main, Mar 31 2022, 08:41:55) [GCC 7.5.0]"
  },
  "orig_nbformat": 4,
  "vscode": {
   "interpreter": {
    "hash": "432bbbb1169051df795428fc481fe68f2019ca6cb67b62b2f37893fa604d8822"
   }
  }
 },
 "nbformat": 4,
 "nbformat_minor": 2
}
