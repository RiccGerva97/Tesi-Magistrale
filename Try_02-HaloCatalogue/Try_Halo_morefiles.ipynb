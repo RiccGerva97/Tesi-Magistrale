{
 "cells": [
  {
   "cell_type": "code",
   "execution_count": 2,
   "metadata": {},
   "outputs": [],
   "source": [
    "import numpy as np\n",
    "import torch\n",
    "import MAS_library as MASL #pylians\n",
    "import redshift_space_library as RSL\n",
    "import matplotlib.pyplot as plt\n",
    "from mpl_toolkits.mplot3d import Axes3D\n",
    "\n",
    "##Per i grafici 3d indagare plotly\n",
    "from kymatio.torch import HarmonicScattering3D\n",
    "from kymatio.scattering3d.backend.torch_backend \\\n",
    "    import TorchBackend3D\n",
    "\n",
    "# Reads Quijote halo catalogues\n",
    "# https://quijote-simulations.readthedocs.io/en/latest/halos.html\n",
    "import readfof"
   ]
  },
  {
   "attachments": {},
   "cell_type": "markdown",
   "metadata": {},
   "source": [
    "I cataloghi di aloni sono elenchi degli aloni presi come punti massivi\n",
    "\n",
    "Ognuno ha una propria massa e un numero di particelle di CDM da cui è formato"
   ]
  },
  {
   "cell_type": "code",
   "execution_count": 1,
   "metadata": {},
   "outputs": [],
   "source": [
    "import os"
   ]
  },
  {
   "cell_type": "code",
   "execution_count": null,
   "metadata": {},
   "outputs": [],
   "source": [
    "snapnum = 2\n",
    "z_dict = {4:0.0, 3:0.5, 2:1.0, 1:2.0, 0:3.0}\n",
    "redshift = z_dict[snapnum]\n",
    "for root, dirs, files in os.walk(\"/home/fuffolo97/TESI/Try_02-HaloCatalogue/Halos\"):\n",
    "    for file in files:\n",
    "        if file.endswith(\".0\"):\n",
    "             print(os.path.join(root, file))"
   ]
  },
  {
   "cell_type": "code",
   "execution_count": 2,
   "metadata": {},
   "outputs": [],
   "source": [
    "# input file\n",
    "# need to select a folder and there must be\n",
    "# a folder named '/groups_00*snapnum*'\n",
    "# snapdir = '/home/fuffolo97/TESI/Try_02-HaloCatalogue/Halos/fiducial/0'\n",
    "snapnum = 2\n",
    "\n",
    "# determine the reìdshift of the catalogue\n",
    "z_dict = {4:0.0, 3:0.5, 2:1.0, 1:2.0, 0:3.0}\n",
    "redshift = z_dict[snapnum]"
   ]
  },
  {
   "cell_type": "code",
   "execution_count": 3,
   "metadata": {},
   "outputs": [
    {
     "name": "stdout",
     "output_type": "stream",
     "text": [
      "\u001b[0;31mInit signature:\u001b[0m\n",
      "\u001b[0mreadfof\u001b[0m\u001b[0;34m.\u001b[0m\u001b[0mFoF_catalog\u001b[0m\u001b[0;34m(\u001b[0m\u001b[0;34m\u001b[0m\n",
      "\u001b[0;34m\u001b[0m    \u001b[0mbasedir\u001b[0m\u001b[0;34m,\u001b[0m\u001b[0;34m\u001b[0m\n",
      "\u001b[0;34m\u001b[0m    \u001b[0msnapnum\u001b[0m\u001b[0;34m,\u001b[0m\u001b[0;34m\u001b[0m\n",
      "\u001b[0;34m\u001b[0m    \u001b[0mlong_ids\u001b[0m\u001b[0;34m=\u001b[0m\u001b[0;32mFalse\u001b[0m\u001b[0;34m,\u001b[0m\u001b[0;34m\u001b[0m\n",
      "\u001b[0;34m\u001b[0m    \u001b[0mswap\u001b[0m\u001b[0;34m=\u001b[0m\u001b[0;32mFalse\u001b[0m\u001b[0;34m,\u001b[0m\u001b[0;34m\u001b[0m\n",
      "\u001b[0;34m\u001b[0m    \u001b[0mSFR\u001b[0m\u001b[0;34m=\u001b[0m\u001b[0;32mFalse\u001b[0m\u001b[0;34m,\u001b[0m\u001b[0;34m\u001b[0m\n",
      "\u001b[0;34m\u001b[0m    \u001b[0mread_IDs\u001b[0m\u001b[0;34m=\u001b[0m\u001b[0;32mTrue\u001b[0m\u001b[0;34m,\u001b[0m\u001b[0;34m\u001b[0m\n",
      "\u001b[0;34m\u001b[0m    \u001b[0mprefix\u001b[0m\u001b[0;34m=\u001b[0m\u001b[0;34m'/groups_'\u001b[0m\u001b[0;34m,\u001b[0m\u001b[0;34m\u001b[0m\n",
      "\u001b[0;34m\u001b[0m\u001b[0;34m)\u001b[0m\u001b[0;34m\u001b[0m\u001b[0;34m\u001b[0m\u001b[0m\n",
      "\u001b[0;31mDocstring:\u001b[0m      <no docstring>\n",
      "\u001b[0;31mFile:\u001b[0m           ~/anaconda3/envs/venv/lib/python3.10/site-packages/readfof.py\n",
      "\u001b[0;31mType:\u001b[0m           type\n",
      "\u001b[0;31mSubclasses:\u001b[0m     \n"
     ]
    }
   ],
   "source": [
    "readfof.FoF_catalog?"
   ]
  },
  {
   "cell_type": "code",
   "execution_count": 5,
   "metadata": {},
   "outputs": [],
   "source": [
    "# read the halo catalogue\n",
    "datas = readfof.FoF_catalog(snapdir, snapnum, read_IDs=False)"
   ]
  },
  {
   "cell_type": "code",
   "execution_count": 6,
   "metadata": {},
   "outputs": [],
   "source": [
    "# how to get the propeties of the halos\n",
    "pos_h = datas.GroupPos/1e3              # positions in Mpc/h\n",
    "mass = datas.GroupMass * 1e10           # masses in M_sun/h\n",
    "# vel_h = datas.GroupVel * (1.0*redshift) # peculiar velocities in km/s\n",
    "# Npart = datas.GroupLen                  # number of CDM particles in the halo"
   ]
  },
  {
   "cell_type": "code",
   "execution_count": 15,
   "metadata": {},
   "outputs": [
    {
     "data": {
      "text/plain": [
       "(195524, 3)"
      ]
     },
     "execution_count": 15,
     "metadata": {},
     "output_type": "execute_result"
    }
   ],
   "source": [
    "np.shape(pos_h)"
   ]
  },
  {
   "attachments": {},
   "cell_type": "markdown",
   "metadata": {},
   "source": [
    "#### Create density matrix from Quijote Halo simulation"
   ]
  },
  {
   "cell_type": "code",
   "execution_count": 1,
   "metadata": {},
   "outputs": [],
   "source": [
    "import sys\n",
    "\n",
    "sys.path.insert(1, '/home/fuffolo97/TESI/MyFunc')\n",
    "from myCIC import cic"
   ]
  },
  {
   "cell_type": "code",
   "execution_count": 9,
   "metadata": {},
   "outputs": [],
   "source": [
    "dens = cic(pos_h, mass, 128, 1000)"
   ]
  },
  {
   "cell_type": "markdown",
   "metadata": {},
   "source": [
    "time: 3m 7.1s"
   ]
  },
  {
   "attachments": {},
   "cell_type": "markdown",
   "metadata": {},
   "source": [
    "#### Calculate scattering transform coefficients"
   ]
  },
  {
   "cell_type": "code",
   "execution_count": null,
   "metadata": {},
   "outputs": [],
   "source": [
    "# parameters for HarmonicScattering3D\n",
    "M, N, O = 128, 128, 128\n",
    "J, L = 4, 4"
   ]
  },
  {
   "cell_type": "code",
   "execution_count": 11,
   "metadata": {},
   "outputs": [],
   "source": [
    "S = HarmonicScattering3D(J=J, L=L, shape=(M, N, O), sigma_0=0.8, integral_powers=[0.8])"
   ]
  },
  {
   "cell_type": "code",
   "execution_count": 12,
   "metadata": {},
   "outputs": [],
   "source": [
    "# argument of \"torch.from_numpy(...)\" must be numpy.float32()\n",
    "Sx = S.scattering(torch.from_numpy(dens))"
   ]
  },
  {
   "cell_type": "code",
   "execution_count": 14,
   "metadata": {},
   "outputs": [],
   "source": [
    "first_order = []\n",
    "second_order = []\n",
    "\n",
    "for i in range(L+1):\n",
    "    for j in range(J+1):\n",
    "        first_order.append(Sx[j, i, 0])\n",
    "    second_order.append(Sx[5:,i,0].numpy())"
   ]
  },
  {
   "cell_type": "code",
   "execution_count": null,
   "metadata": {},
   "outputs": [],
   "source": []
  }
 ],
 "metadata": {
  "kernelspec": {
   "display_name": "venv",
   "language": "python",
   "name": "python3"
  },
  "language_info": {
   "codemirror_mode": {
    "name": "ipython",
    "version": 3
   },
   "file_extension": ".py",
   "mimetype": "text/x-python",
   "name": "python",
   "nbconvert_exporter": "python",
   "pygments_lexer": "ipython3",
   "version": "3.10.4"
  },
  "orig_nbformat": 4,
  "vscode": {
   "interpreter": {
    "hash": "432bbbb1169051df795428fc481fe68f2019ca6cb67b62b2f37893fa604d8822"
   }
  }
 },
 "nbformat": 4,
 "nbformat_minor": 2
}
