{
 "cells": [
  {
   "cell_type": "code",
   "execution_count": 1,
   "metadata": {},
   "outputs": [],
   "source": [
    "import numpy as np\n",
    "import torch\n",
    "\n",
    "##Per i grafici 3d indagare plotly\n",
    "from kymatio.torch import HarmonicScattering3D\n",
    "from kymatio.scattering3d.backend.torch_backend \\\n",
    "    import TorchBackend3D\n",
    "\n",
    "# Reads Quijote halo catalogues\n",
    "import readfof"
   ]
  },
  {
   "cell_type": "markdown",
   "metadata": {},
   "source": [
    "import sys\n",
    "sys.path.insert(1, '/home/fuffolo97/TESI/MyFunc')\n",
    "from CalcWST import HaloWST"
   ]
  },
  {
   "attachments": {},
   "cell_type": "markdown",
   "metadata": {},
   "source": [
    "I cataloghi di aloni sono elenchi degli aloni presi come punti massivi\n",
    "\n",
    "Ognuno ha una propria massa e un numero di particelle di CDM da cui è formato"
   ]
  },
  {
   "cell_type": "code",
   "execution_count": 2,
   "metadata": {},
   "outputs": [],
   "source": [
    "# input file\n",
    "# need to select a folder and there must be\n",
    "# a folder named '/groups_00*snapnum*'\n",
    "snapdir = '/home/fuffolo97/TESI/Try_02-HaloCatalogue/Halos/fiducial/1'\n",
    "snapnum = 2\n",
    "\n",
    "# determine the reìdshift of the catalogue\n",
    "z_dict = {4:0.0, 3:0.5, 2:1.0, 1:2.0, 0:3.0}\n",
    "redshift = z_dict[snapnum]"
   ]
  },
  {
   "cell_type": "code",
   "execution_count": 3,
   "metadata": {},
   "outputs": [],
   "source": [
    "# read the halo catalogue\n",
    "datas = readfof.FoF_catalog(snapdir, snapnum, read_IDs=False)"
   ]
  },
  {
   "cell_type": "code",
   "execution_count": 4,
   "metadata": {},
   "outputs": [],
   "source": [
    "# how to get the propeties of the halos\n",
    "pos_h = datas.GroupPos/1e3              # positions in Mpc/h\n",
    "mass = datas.GroupMass * 1e10           # masses in M_sun/h\n",
    "# vel_h = datas.GroupVel * (1.0*redshift) # peculiar velocities in km/s\n",
    "# Npart = datas.GroupLen                  # number of CDM particles in the halo"
   ]
  },
  {
   "attachments": {},
   "cell_type": "markdown",
   "metadata": {},
   "source": [
    "#### Create density matrix from Quijote Halo simulation"
   ]
  },
  {
   "cell_type": "code",
   "execution_count": 5,
   "metadata": {},
   "outputs": [],
   "source": [
    "import sys\n",
    "\n",
    "sys.path.insert(1, '/home/fuffolo97/TESI/MyFunc')\n",
    "from myCIC import cic, cic_multiT, cic_multiP"
   ]
  },
  {
   "cell_type": "markdown",
   "metadata": {},
   "source": [
    "# import cProfile\n",
    "# cProfile.run('dens = cic(pos_h, mass, 128, 1000)', \"results.prof\")\n",
    "\n",
    "dens = np.float32(pow(1000/128, -6) * np.sum(cic_multiT(pos_h, mass, 128)))"
   ]
  },
  {
   "attachments": {},
   "cell_type": "markdown",
   "metadata": {},
   "source": [
    "CIC non multithread:\n",
    "- Before for loops:  0.008156299591064453 s \n",
    "- For loops:  135.50461220741272 s\n",
    "- TOT $\\sim$ 2m 15s\n",
    "\n",
    "CIC non multithread (inverted for loops): same\n",
    "\n",
    "CIC using function inside 'for i in ...':\n",
    "- TOT $\\sim$ 2m 11s"
   ]
  },
  {
   "cell_type": "code",
   "execution_count": 6,
   "metadata": {},
   "outputs": [],
   "source": [
    "dens2 = cic(pos_h, mass, 128)"
   ]
  },
  {
   "cell_type": "code",
   "execution_count": 7,
   "metadata": {},
   "outputs": [],
   "source": [
    "# %load_ext snakeviz"
   ]
  },
  {
   "cell_type": "markdown",
   "metadata": {},
   "source": [
    "time: 3m 7.1s"
   ]
  },
  {
   "attachments": {},
   "cell_type": "markdown",
   "metadata": {},
   "source": [
    "#### Calculate scattering transform coefficients"
   ]
  },
  {
   "cell_type": "code",
   "execution_count": 8,
   "metadata": {},
   "outputs": [],
   "source": [
    "# parameters for HarmonicScattering3D\n",
    "M, N, O = 128, 128, 128\n",
    "J, L = 4, 4"
   ]
  },
  {
   "cell_type": "code",
   "execution_count": 9,
   "metadata": {},
   "outputs": [],
   "source": [
    "S = HarmonicScattering3D(J=J, L=L, shape=(M, N, O), sigma_0=0.8, integral_powers=[0.8])"
   ]
  },
  {
   "cell_type": "code",
   "execution_count": 11,
   "metadata": {},
   "outputs": [],
   "source": [
    "# argument of \"torch.from_numpy(...)\" must be numpy.float32()\n",
    "Sx = S.scattering(torch.from_numpy(dens2))"
   ]
  },
  {
   "cell_type": "code",
   "execution_count": null,
   "metadata": {},
   "outputs": [],
   "source": [
    "first_order = []\n",
    "second_order = []\n",
    "\n",
    "for i in range(L+1):\n",
    "    for j in range(J+1):\n",
    "        first_order.append(Sx[j, i, 0])\n",
    "    second_order.append(Sx[5:,i,0].numpy())"
   ]
  },
  {
   "attachments": {},
   "cell_type": "markdown",
   "metadata": {},
   "source": [
    "All the previous calcs can be done now simply by:\n",
    "\n",
    "```\n",
    "$ import sys\n",
    "$ sys.path.insert(1, '/home/fuffolo97/TESI/MyFunc')\n",
    "$ from CalcWST import HaloWST\n",
    "$ snapdir = '/path/to/files/without/groups_'\n",
    "$ WST = HaloWST(snapdir)\n",
    "```"
   ]
  }
 ],
 "metadata": {
  "kernelspec": {
   "display_name": "venv",
   "language": "python",
   "name": "python3"
  },
  "language_info": {
   "codemirror_mode": {
    "name": "ipython",
    "version": 3
   },
   "file_extension": ".py",
   "mimetype": "text/x-python",
   "name": "python",
   "nbconvert_exporter": "python",
   "pygments_lexer": "ipython3",
   "version": "3.10.4"
  },
  "orig_nbformat": 4,
  "vscode": {
   "interpreter": {
    "hash": "432bbbb1169051df795428fc481fe68f2019ca6cb67b62b2f37893fa604d8822"
   }
  }
 },
 "nbformat": 4,
 "nbformat_minor": 2
}
