{
 "cells": [
  {
   "cell_type": "code",
   "execution_count": 1,
   "metadata": {},
   "outputs": [],
   "source": [
    "import numpy as np\n",
    "import os\n",
    "import torch\n",
    "\n",
    "from kymatio.torch import HarmonicScattering3D\n",
    "from kymatio.scattering3d.backend.torch_backend \\\n",
    "    import TorchBackend3D\n",
    "\n",
    "# Reads Quijote halo catalogues\n",
    "import readfof\n",
    "\n",
    "import sys\n",
    "sys.path.insert(1, '/home/fuffolo97/TESI/MyFunc')\n",
    "from CalcWST import HaloWST"
   ]
  },
  {
   "cell_type": "code",
   "execution_count": 2,
   "metadata": {},
   "outputs": [],
   "source": [
    "import time"
   ]
  },
  {
   "cell_type": "code",
   "execution_count": 3,
   "metadata": {},
   "outputs": [],
   "source": [
    "snapnum = 2\n",
    "z_dict = {4:0.0, 3:0.5, 2:1.0, 1:2.0, 0:3.0}\n",
    "redshift = z_dict[snapnum]\n",
    "\n",
    "\n",
    "root = '/home/fuffolo97/TESI/Try_02-HaloCatalogue/Halos/'\n",
    "folders = ['fiducial', 'EQ_m']\n",
    "\n",
    "first_order_coeffs = []\n",
    "second_order_coeffs = []"
   ]
  },
  {
   "cell_type": "code",
   "execution_count": 4,
   "metadata": {},
   "outputs": [
    {
     "name": "stdout",
     "output_type": "stream",
     "text": [
      "fiducial   0 :  105.98827028274536\n",
      "fiducial   1 :  107.69095945358276\n",
      "fiducial :  213.6793577671051\n",
      "EQ_m   0 :  109.78992223739624\n",
      "EQ_m   1 :  113.63505697250366\n",
      "EQ_m :  223.4251000881195\n",
      "TOT:  437.10467505455017\n"
     ]
    }
   ],
   "source": [
    "T0 = time.time()\n",
    "# do a loop over cosmologies (now only over the fiducial one)\n",
    "for folder in folders:\n",
    "    # do a loop over the different realizations\n",
    "    # WST = None\n",
    "    Tfol = time.time()\n",
    "    for i in range(2):\n",
    "        Ti = time.time()\n",
    "        snapdir = root + folder +'/%d'%i\n",
    "        # if in future will be done for more than one value\n",
    "        # of redshift, here another for loop over snapnum\n",
    "        WST = HaloWST(snapdir)\n",
    "        first_order_coeffs.append(WST[0])\n",
    "        second_order_coeffs.append(WST[1])\n",
    "        print(folder, \" \", i,\": \", time.time()-Ti)\n",
    "\n",
    "    print(folder, \": \", time.time()-Tfol)\n",
    "print(\"TOT: \", time.time()-T0)"
   ]
  },
  {
   "cell_type": "code",
   "execution_count": null,
   "metadata": {},
   "outputs": [],
   "source": []
  }
 ],
 "metadata": {
  "kernelspec": {
   "display_name": "venv",
   "language": "python",
   "name": "python3"
  },
  "language_info": {
   "codemirror_mode": {
    "name": "ipython",
    "version": 3
   },
   "file_extension": ".py",
   "mimetype": "text/x-python",
   "name": "python",
   "nbconvert_exporter": "python",
   "pygments_lexer": "ipython3",
   "version": "3.10.4"
  },
  "orig_nbformat": 4,
  "vscode": {
   "interpreter": {
    "hash": "432bbbb1169051df795428fc481fe68f2019ca6cb67b62b2f37893fa604d8822"
   }
  }
 },
 "nbformat": 4,
 "nbformat_minor": 2
}
