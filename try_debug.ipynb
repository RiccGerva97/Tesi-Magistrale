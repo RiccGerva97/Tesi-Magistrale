{
 "cells": [
  {
   "cell_type": "code",
   "execution_count": 5,
   "metadata": {},
   "outputs": [
    {
     "name": "stderr",
     "output_type": "stream",
     "text": [
      "[ 000000.00 ]   0: 09-27 12:00  CatalogMesh     INFO     Chunk 0 ~ 4194304 / 4 \n"
     ]
    },
    {
     "name": "stderr",
     "output_type": "stream",
     "text": [
      "[ 000000.08 ]   0: 09-27 12:00  CatalogMesh     INFO     painted 4 out of 4 objects to mesh\n",
      "[ 000000.08 ]   0: 09-27 12:00  CatalogMesh     INFO     painted 4 out of 4 objects to mesh\n",
      "[ 000000.08 ]   0: 09-27 12:00  CatalogMesh     INFO     mean particles per cell is 1.52588e-05\n",
      "[ 000000.08 ]   0: 09-27 12:00  CatalogMesh     INFO     sum is 4 \n",
      "[ 000000.08 ]   0: 09-27 12:00  CatalogMesh     INFO     normalized the convention to 1 + delta\n",
      "[ 000000.09 ]   0: 09-27 12:00  CatalogMesh     INFO     field: (ArrayCatalog(size=4) as CatalogMesh) painting done\n",
      "[ 000000.11 ]   0: 09-27 12:00  CatalogMesh     INFO     Chunk 0 ~ 4194304 / 4 \n",
      "[ 000000.18 ]   0: 09-27 12:00  CatalogMesh     INFO     painted 4 out of 4 objects to mesh\n",
      "[ 000000.18 ]   0: 09-27 12:00  CatalogMesh     INFO     painted 4 out of 4 objects to mesh\n",
      "[ 000000.18 ]   0: 09-27 12:00  CatalogMesh     INFO     mean particles per cell is 1.52588e-05\n",
      "[ 000000.18 ]   0: 09-27 12:00  CatalogMesh     INFO     sum is 4 \n",
      "[ 000000.18 ]   0: 09-27 12:00  CatalogMesh     INFO     normalized the convention to 1 + delta\n",
      "[ 000000.19 ]   0: 09-27 12:00  CatalogMesh     INFO     field: (ArrayCatalog(size=4) as CatalogMesh) painting done\n"
     ]
    },
    {
     "name": "stdout",
     "output_type": "stream",
     "text": [
      "(<BinnedStatistic: dims: (k: 32), variables: ('k', 'power', 'modes')>, None)\n"
     ]
    }
   ],
   "source": [
    "%matplotlib inline\n",
    "%config InlineBackend.figure_format = 'retina'\n",
    "\n",
    "import numpy as np\n",
    "\n",
    "import nbodykit.lab\n",
    "from nbodykit.lab import *\n",
    "from nbodykit import style, setup_logging\n",
    "\n",
    "from nbodykit.source.catalog import ArrayCatalog\n",
    "\n",
    "setup_logging()\n",
    "\n",
    "# Create a custom catalog with positions (x, y, z)\n",
    "x = np.array([1.0, 2.0, 3.0, 4.0])\n",
    "y = np.array([2.0, 3.0, 4.0, 5.0])\n",
    "z = np.array([3.0, 4.0, 5.0, 6.0])\n",
    "\n",
    "# Stack the positions horizontally\n",
    "positions = np.column_stack((x, y, z))\n",
    "\n",
    "# Define the data type for the structured array\n",
    "dtype = [('Position', ('f8', 3))]\n",
    "\n",
    "# Create the structured numpy array\n",
    "data = np.array(list(zip(positions)), dtype=dtype)\n",
    "\n",
    "# Create the ArrayCatalog\n",
    "custom_catalog = ArrayCatalog(data)\n",
    "\n",
    "# Define box size and number of bins\n",
    "box_size = [5.0, 5.0, 5.0]\n",
    "num_bins = 64\n",
    "\n",
    "# Calculate the power spectrum\n",
    "power = FFTPower(custom_catalog, mode='1d', BoxSize=box_size, Nmesh=num_bins)\n",
    "result = power.run()\n",
    "\n",
    "# Access the power spectrum values\n",
    "\n",
    "print(result)"
   ]
  },
  {
   "cell_type": "code",
   "execution_count": null,
   "metadata": {},
   "outputs": [],
   "source": []
  }
 ],
 "metadata": {
  "kernelspec": {
   "display_name": "nbodykit-env",
   "language": "python",
   "name": "python3"
  },
  "language_info": {
   "codemirror_mode": {
    "name": "ipython",
    "version": 3
   },
   "file_extension": ".py",
   "mimetype": "text/x-python",
   "name": "python",
   "nbconvert_exporter": "python",
   "pygments_lexer": "ipython3",
   "version": "3.8.15"
  },
  "orig_nbformat": 4
 },
 "nbformat": 4,
 "nbformat_minor": 2
}
