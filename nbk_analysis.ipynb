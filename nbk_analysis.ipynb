{
 "cells": [
  {
   "cell_type": "code",
   "execution_count": 1,
   "metadata": {},
   "outputs": [],
   "source": [
    "%matplotlib inline\n",
    "%config InlineBackend.figure_format = 'retina'\n",
    "\n",
    "import nbodykit.lab\n",
    "from nbodykit.lab import *\n",
    "from nbodykit import style, setup_logging\n",
    "\n",
    "import numpy as np\n",
    "import MAS_library as MASL\n",
    "import Pk_library as PKL\n",
    "import matplotlib.pyplot as plt\n",
    "plt.style.use(style.notebook)\n",
    "\n",
    "import sys, pickle, time, os\n",
    "\n",
    "# nbodykit tool to read custom (non-standard) catalogue file type\n",
    "from nbodykit.io.base import FileType\n",
    "# nbodykit tool to creae custom subclass od CatalogSource\n",
    "from nbodykit.source.catalog.file import FileCatalogFactory\n",
    "# nbodykit cosmology parameters initialization\n",
    "from nbodykit.lab import cosmology\n",
    "from readfof import FoF_catalog\n",
    "from torch import flatten, from_numpy\n",
    "\n",
    "setup_logging()"
   ]
  },
  {
   "cell_type": "code",
   "execution_count": 2,
   "metadata": {},
   "outputs": [],
   "source": [
    "COSMOPAR = {\n",
    "#                   | Om   | Ob   |   h   |  n_s  | s_8 | Mnu | w |\n",
    "\n",
    "    'fiducial' :    [0.3175, 0.049, 0.6711, 0.9624, 0.834, 0, -1],\n",
    "    'zeldovich':    [0.3175, 0.049, 0.6711, 0.9624, 0.834, 0, -1],\n",
    "    \n",
    "    'Mnu_p' :       [0.3175, 0.049, 0.6711, 0.9624, 0.834, 0.1, -1],\n",
    "    'Mnu_pp' :      [0.3175, 0.049, 0.6711, 0.9624, 0.834, 0.2, -1],\n",
    "    'Mnu_ppp' :     [0.3175, 0.049, 0.6711, 0.9624, 0.834, 0.4, -1],\n",
    "    \n",
    "    'h_m' :         [0.3175, 0.049, 0.6511, 0.9624, 0.834, 0, -1],\n",
    "    'h_p' :         [0.3175, 0.049, 0.6911, 0.9624, 0.834, 0, -1],\n",
    "    \n",
    "    'ns_m' :        [0.3175, 0.049, 0.6711, 0.9424, 0.834, 0, -1],\n",
    "    'ns_p' :        [0.3175, 0.049, 0.6711, 0.9824, 0.834, 0, -1],\n",
    "    \n",
    "    'Ob_m' :        [0.3175, 0.048, 0.6711, 0.9624, 0.834, 0, -1],\n",
    "    'Ob_p' :        [0.3175, 0.050, 0.6711, 0.9624, 0.834, 0, -1],\n",
    "    'Ob2_m' :       [0.3175, 0.047, 0.6711, 0.9624, 0.834, 0, -1],\n",
    "    'Ob2_p' :       [0.3175, 0.051, 0.6711, 0.9624, 0.834, 0, -1],\n",
    "    \n",
    "    'Om_m' :        [0.3075, 0.049, 0.6711, 0.9624, 0.834, 0, -1],\n",
    "    'Om_p' :        [0.3275, 0.049, 0.6711, 0.9624, 0.834, 0, -1],\n",
    "    \n",
    "    's8_m' :        [0.3175, 0.049, 0.6711, 0.9624, 0.819, 0, -1],\n",
    "    's8_p' :        [0.3175, 0.049, 0.6711, 0.9624, 0.849, 0, -1],\n",
    "    \n",
    "    'w_m' :         [0.3175, 0.049, 0.6711, 0.9624, 0.834, 0, -0.95],\n",
    "    'w_p' :         [0.3175, 0.049, 0.6711, 0.9624, 0.834, 0, -1.05]\n",
    "}\n",
    "\n",
    "fiducial_vals = {\n",
    "    'Ob'  : 0.3175,\n",
    "    'Ob2' : 0.3175,\n",
    "    'Om'  : 0.049,\n",
    "    'h'   : 0.6711,\n",
    "    'n_s' : 0.9624,\n",
    "    'ns'  : 0.9624,\n",
    "    's_8' : 0.834,\n",
    "    's8'  : 0.834,\n",
    "    'Mnu' : 0,\n",
    "    'w'   : -1\n",
    "}\n",
    "\n",
    "def info_name(name):\n",
    "    \"\"\"Obtain realization information from namefile\"\"\"\n",
    "    # assert type(name) == str\n",
    "    print(\"TYPE: \", type(name))\n",
    "    # info = name.split('_')\n",
    "    info = name.split('_')[-3:]\n",
    "    print(\"TYPE: \", info, \"\\n\", type(info))\n",
    "    info[2] = info[2].replace(\".wst\", \"\")\n",
    "    N_hgrid = info[0]\n",
    "    N_WSTgrid = info[1]\n",
    "    n_realiz = info[2].replace(\".wst\", \"\")\n",
    "    \n",
    "    return [int(N_hgrid), int(N_WSTgrid), int(n_realiz)]\n",
    "\n",
    "def cosmo_parser(name):\n",
    "    \"\"\"Obtain cosmology from .wst file\"\"\"\n",
    "    info = name.split('_')\n",
    "    if info[0] == \"fiducial\":\n",
    "        return info[0]\n",
    "    elif info[0] == \"zeldovich\":\n",
    "        return info[0]\n",
    "    else:\n",
    "        return info[0] + \"_\" + info[1]\n",
    "    \n",
    "def PacMan(x, d = np.array((0, 0, 1000)) ):\n",
    "    \"\"\"Returns a number x in the interval [0; d]\"\"\"\n",
    "    if 0 <= x[2] <= d[2]:\n",
    "        return x\n",
    "    elif x[2] > d[2]:\n",
    "        return PacMan(x - d)\n",
    "    elif x[2] < 0:\n",
    "        return PacMan(x + d) "
   ]
  },
  {
   "cell_type": "code",
   "execution_count": 8,
   "metadata": {},
   "outputs": [],
   "source": [
    "N_grid = 256\n",
    "BoxDim = 1000.\n",
    "line_of_sight = [0, 0, 1]\n",
    "\n",
    "snapnum = 2\n",
    "filename = \"fiducial\"+'_coefficients_' +\"08\" + '_' + \"08\" + '_' +str(N_grid)+\"_\"+str(1000)+'.wst'\n",
    "snapdir = \"/media/fuffolo97/HDD1/UNI/Tesi/halos/\" + cosmo_parser(filename) + \"/1\"\n",
    "\n",
    "z_dict = {4:0.0, 3:0.5, 2:1.0, 1:2.0, 0:3.0}\n",
    "redshift = z_dict[snapnum]\n",
    "strt = time.time()\n",
    "H_0 = 100 * COSMOPAR[\"fiducial\"][2]\n",
    "\n",
    "datas = FoF_catalog(snapdir, snapnum, read_IDs=False)\n",
    "\n",
    "pos_h = (datas.GroupPos/1e3).astype(np.float32)                     # positions in Mpc/h\n",
    "mass = (datas.GroupMass * 1e10).astype(np.float32)                  # masses in M_sun/\n",
    "vel = (datas.GroupVel*(1.0+redshift)).astype(np.float32)            # Halo peculiar velocities in km/s\n",
    "\n",
    "pos_rsd = []\n",
    "for i in range(len(vel)):\n",
    "    pos_rsd.append(PacMan(pos_h[i] + (1+redshift) * np.array( ([0, 0, vel[i][2]/H_0]) ) ))\n",
    "pos_rsd = np.array(pos_rsd, dtype=np.float32)"
   ]
  },
  {
   "cell_type": "code",
   "execution_count": 9,
   "metadata": {},
   "outputs": [],
   "source": [
    "assert np.shape(pos_h) == np.shape(pos_rsd) == np.shape(vel)\n",
    "assert len(pos_h) == len(mass)"
   ]
  },
  {
   "cell_type": "code",
   "execution_count": 10,
   "metadata": {},
   "outputs": [],
   "source": [
    "dtype_cust = [(\"Position\", (np.float32, 3)), (\"RSDPosition\", (np.float32, 3)), (\"Velocity\", (np.float32, 3)), (\"Mass\", np.float32)]"
   ]
  },
  {
   "cell_type": "code",
   "execution_count": 11,
   "metadata": {},
   "outputs": [],
   "source": [
    "if os.path.exists('./data_source_fiducial_1.dat'):\n",
    "    os.remove('./data_source_fiducial_1.dat')\n",
    "\n",
    "with open('./data_source_fiducial_1.dat', \"wb\") as ff:\n",
    "    pos_h.tofile(ff)\n",
    "    pos_rsd.tofile(ff)\n",
    "    vel.tofile(ff)\n",
    "    mass.tofile(ff)\n",
    "    ff.seek(0)"
   ]
  },
  {
   "cell_type": "code",
   "execution_count": 12,
   "metadata": {},
   "outputs": [
    {
     "name": "stderr",
     "output_type": "stream",
     "text": [
      "[ 000091.00 ]   0: 09-27 14:58  CatalogSource   INFO     Extra arguments to FileType: ([('Position', (<class 'numpy.float32'>, 3)), ('RSDPosition', (<class 'numpy.float32'>, 3)), ('Velocity', (<class 'numpy.float32'>, 3)), ('Mass', <class 'numpy.float32'>)],) {}\n"
     ]
    }
   ],
   "source": [
    "binCat = BinaryCatalog(ff.name, dtype_cust)"
   ]
  },
  {
   "cell_type": "code",
   "execution_count": 13,
   "metadata": {},
   "outputs": [],
   "source": [
    "cosmo_nbk = cosmology.Cosmology(h=fiducial_vals[\"h\"],\n",
    "                                sigma8=fiducial_vals[\"s8\"],\n",
    "                                #Omega0_b=fiducial_vals[\"Ob\"],\n",
    "                                Omega0_cdm = fiducial_vals[\"Om\"],\n",
    "                                n_s=fiducial_vals[\"ns\"],\n",
    "                                # m_ncdm=fiducial_vals[\"Mnu\"]\n",
    "                                )"
   ]
  },
  {
   "cell_type": "code",
   "execution_count": 14,
   "metadata": {},
   "outputs": [],
   "source": [
    "mesh = binCat.to_mesh(resampler='cic', Nmesh=256, compensated=True,\n",
    "                      position='Position', weight=\"Mass\",\n",
    "                      BoxSize=BoxDim\n",
    "                      )"
   ]
  },
  {
   "cell_type": "code",
   "execution_count": 15,
   "metadata": {},
   "outputs": [
    {
     "name": "stderr",
     "output_type": "stream",
     "text": [
      "[ 000162.35 ]   0: 09-27 14:59  CatalogMesh     INFO     Chunk 0 ~ 4194304 / 195784 \n",
      "[ 000162.65 ]   0: 09-27 14:59  CatalogMesh     INFO     painted 195784 out of 195784 objects to mesh\n",
      "[ 000162.65 ]   0: 09-27 14:59  CatalogMesh     INFO     painted 195784 out of 195784 objects to mesh\n",
      "[ 000162.65 ]   0: 09-27 14:59  CatalogMesh     INFO     mean particles per cell is 3.54265e+11\n",
      "[ 000162.66 ]   0: 09-27 14:59  CatalogMesh     INFO     sum is 5.94357e+18 \n",
      "[ 000162.67 ]   0: 09-27 14:59  CatalogMesh     INFO     normalized the convention to 1 + delta\n",
      "[ 000162.90 ]   0: 09-27 14:59  CatalogMesh     INFO     field: (BinaryCatalog(size=195784, FileStack(BinaryFile(path=/home/fuffolo97/TESI/data_source_fiducial_1.dat, dataset=*, ncolumns=4, shape=(195784,)>, ... 1 files)) as CatalogMesh) painting done\n"
     ]
    }
   ],
   "source": [
    "r_3d = FFTPower(mesh, mode='1d', dk=0.005, kmin=0.01)"
   ]
  },
  {
   "cell_type": "code",
   "execution_count": null,
   "metadata": {},
   "outputs": [],
   "source": []
  }
 ],
 "metadata": {
  "kernelspec": {
   "display_name": "nbodykit-envB",
   "language": "python",
   "name": "python3"
  },
  "language_info": {
   "codemirror_mode": {
    "name": "ipython",
    "version": 3
   },
   "file_extension": ".py",
   "mimetype": "text/x-python",
   "name": "python",
   "nbconvert_exporter": "python",
   "pygments_lexer": "ipython3",
   "version": "3.8.18"
  },
  "orig_nbformat": 4
 },
 "nbformat": 4,
 "nbformat_minor": 2
}
