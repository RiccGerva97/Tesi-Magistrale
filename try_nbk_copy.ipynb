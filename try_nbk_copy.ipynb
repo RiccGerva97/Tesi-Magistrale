{
 "cells": [
  {
   "cell_type": "code",
   "execution_count": 15,
   "metadata": {},
   "outputs": [],
   "source": [
    "%matplotlib inline\n",
    "%config InlineBackend.figure_format = 'retina'"
   ]
  },
  {
   "cell_type": "code",
   "execution_count": 16,
   "metadata": {},
   "outputs": [],
   "source": [
    "import nbodykit.lab\n",
    "from nbodykit.lab import *\n",
    "from nbodykit import style, setup_logging\n",
    "\n",
    "import numpy as np\n",
    "import MAS_library as MASL\n",
    "import Pk_library as PKL\n",
    "import matplotlib.pyplot as plt\n",
    "plt.style.use(style.notebook)\n",
    "\n",
    "import sys, pickle, time, os\n",
    "\n",
    "# nbodykit tool to read custom (non-standard) catalogue file type\n",
    "from nbodykit.io.base import FileType\n",
    "# nbodykit tool to creae custom subclass od CatalogSource\n",
    "from nbodykit.source.catalog.file import FileCatalogFactory\n",
    "# nbodykit cosmology parameters initialization\n",
    "from nbodykit.lab import cosmology\n",
    "# nbodykit other way to create custom catalog from array\n",
    "from nbodykit.source.catalog import ArrayCatalog\n",
    "\n",
    "from readfof import FoF_catalog\n",
    "from torch import flatten, from_numpy"
   ]
  },
  {
   "cell_type": "code",
   "execution_count": 17,
   "metadata": {},
   "outputs": [],
   "source": [
    "setup_logging()"
   ]
  },
  {
   "cell_type": "code",
   "execution_count": 18,
   "metadata": {},
   "outputs": [
    {
     "data": {
      "text/plain": [
       "'Values of fiducial cosmological parameters.\\n'"
      ]
     },
     "execution_count": 18,
     "metadata": {},
     "output_type": "execute_result"
    }
   ],
   "source": [
    "order_folders = {\n",
    "    'fiducial'  : 0,\n",
    "    'h_m'       : 1,\n",
    "    'h_p'       : 2,\n",
    "    'Mnu_p'     : 3,\n",
    "    'Mnu_pp'    : 4,\n",
    "    'Mnu_ppp'   : 5,\n",
    "    'ns_m'      : 6,\n",
    "    'ns_p'      : 7,\n",
    "    'Ob2_m'     : 8,\n",
    "    'Ob2_p'     : 9,\n",
    "    'Om_m'      : 10,\n",
    "    'Om_p'      : 11,\n",
    "    's8_m'      : 12,\n",
    "    's8_p'      : 13,\n",
    "    'w_m'       : 14,\n",
    "    'w_p'       : 15,\n",
    "    'zeldovich' : 16\n",
    "}\n",
    "\n",
    "cosmological_pars = {\n",
    "    'Om'  : 0,\n",
    "    'Ob'  : 1,\n",
    "    'h'   : 2,\n",
    "    'ns'  : 3,\n",
    "    's8'  : 4,\n",
    "    'w'   : 5,\n",
    "    'Mnu' : 6\n",
    "}\n",
    "\n",
    "order_dimension = {\n",
    "    'Om'  : 0,\n",
    "    'Ob'  : 1,\n",
    "    'Ob2' : 1,\n",
    "    'h'   : 2,\n",
    "    'ns'  : 3,\n",
    "    's8'  : 4,\n",
    "    'w'   : 5,\n",
    "    'Mnu' : 6\n",
    "}\n",
    "\n",
    "boolean = {\n",
    "    'True' : 1,\n",
    "    'TRUE' : 1,\n",
    "    'true' : 1,\n",
    "    'False' : 0,\n",
    "    'FALSE' : 0,\n",
    "    'false' : 0\n",
    " }\n",
    "\n",
    "COSMOPAR = {\n",
    "#                   | Om   | Ob   |   h   |  n_s  | s_8 | Mnu | w |\n",
    "\n",
    "    'fiducial' :    [0.3175, 0.049, 0.6711, 0.9624, 0.834, 0, -1],\n",
    "    'zeldovich':    [0.3175, 0.049, 0.6711, 0.9624, 0.834, 0, -1],\n",
    "    \n",
    "    'Mnu_p' :       [0.3175, 0.049, 0.6711, 0.9624, 0.834, 0.1, -1],\n",
    "    'Mnu_pp' :      [0.3175, 0.049, 0.6711, 0.9624, 0.834, 0.2, -1],\n",
    "    'Mnu_ppp' :     [0.3175, 0.049, 0.6711, 0.9624, 0.834, 0.4, -1],\n",
    "    \n",
    "    'h_m' :         [0.3175, 0.049, 0.6511, 0.9624, 0.834, 0, -1],\n",
    "    'h_p' :         [0.3175, 0.049, 0.6911, 0.9624, 0.834, 0, -1],\n",
    "    \n",
    "    'ns_m' :        [0.3175, 0.049, 0.6711, 0.9424, 0.834, 0, -1],\n",
    "    'ns_p' :        [0.3175, 0.049, 0.6711, 0.9824, 0.834, 0, -1],\n",
    "    \n",
    "    'Ob_m' :        [0.3175, 0.048, 0.6711, 0.9624, 0.834, 0, -1],\n",
    "    'Ob_p' :        [0.3175, 0.050, 0.6711, 0.9624, 0.834, 0, -1],\n",
    "    'Ob2_m' :       [0.3175, 0.047, 0.6711, 0.9624, 0.834, 0, -1],\n",
    "    'Ob2_p' :       [0.3175, 0.051, 0.6711, 0.9624, 0.834, 0, -1],\n",
    "    \n",
    "    'Om_m' :        [0.3075, 0.049, 0.6711, 0.9624, 0.834, 0, -1],\n",
    "    'Om_p' :        [0.3275, 0.049, 0.6711, 0.9624, 0.834, 0, -1],\n",
    "    \n",
    "    's8_m' :        [0.3175, 0.049, 0.6711, 0.9624, 0.819, 0, -1],\n",
    "    's8_p' :        [0.3175, 0.049, 0.6711, 0.9624, 0.849, 0, -1],\n",
    "    \n",
    "    'w_m' :         [0.3175, 0.049, 0.6711, 0.9624, 0.834, 0, -0.95],\n",
    "    'w_p' :         [0.3175, 0.049, 0.6711, 0.9624, 0.834, 0, -1.05]\n",
    "}\n",
    "\"\"\"\n",
    "Dictionary to assegnate to a cosmology its parameters\n",
    "Ordered pairing cosmologies and the first one in with _m, the second one _p\n",
    "\"\"\"\n",
    "\n",
    "VarCosmoPar = {\n",
    "    'd_h'  : 0.02,\n",
    "    'd_ns' : 0.02,\n",
    "    'd_Ob' : 0.001,\n",
    "    'd_Ob2': 0.002,\n",
    "    'd_Om' : 0.01,\n",
    "    'd_s8' : 0.015,\n",
    "    'd_w'  : -0.05\n",
    "}\n",
    "\"\"\"Values of deviations from fiducial cosmological parameters.\n",
    "\"\"\"\n",
    "\n",
    "fiducial_vals = {\n",
    "    'Ob'  : 0.3175,\n",
    "    'Ob2' : 0.3175,\n",
    "    'Om'  : 0.049,\n",
    "    'h'   : 0.6711,\n",
    "    'n_s' : 0.9624,\n",
    "    'ns'  : 0.9624,\n",
    "    's_8' : 0.834,\n",
    "    's8'  : 0.834,\n",
    "    'Mnu' : 0,\n",
    "    'w'   : -1\n",
    "}\n",
    "\"\"\"Values of fiducial cosmological parameters.\n",
    "\"\"\""
   ]
  },
  {
   "cell_type": "code",
   "execution_count": 19,
   "metadata": {},
   "outputs": [],
   "source": [
    "def info_name(name):\n",
    "    \"\"\"Obtain realization information from namefile\"\"\"\n",
    "    # assert type(name) == str\n",
    "    print(\"TYPE: \", type(name))\n",
    "    # info = name.split('_')\n",
    "    info = name.split('_')[-3:]\n",
    "    print(\"TYPE: \", info, \"\\n\", type(info))\n",
    "    info[2] = info[2].replace(\".wst\", \"\")\n",
    "    N_hgrid = info[0]\n",
    "    N_WSTgrid = info[1]\n",
    "    n_realiz = info[2].replace(\".wst\", \"\")\n",
    "    \n",
    "    return [int(N_hgrid), int(N_WSTgrid), int(n_realiz)]\n",
    "\n",
    "def cosmo_parser(name):\n",
    "    \"\"\"Obtain cosmology from .wst file\"\"\"\n",
    "    info = name.split('_')\n",
    "    if info[0] == \"fiducial\":\n",
    "        return info[0]\n",
    "    elif info[0] == \"zeldovich\":\n",
    "        return info[0]\n",
    "    else:\n",
    "        return info[0] + \"_\" + info[1]"
   ]
  },
  {
   "cell_type": "code",
   "execution_count": 20,
   "metadata": {},
   "outputs": [],
   "source": [
    "def PacMan(x, d = np.array((0, 0, 1000)) ):\n",
    "   \"\"\"Returns a number x in the interval [0; d]\"\"\"\n",
    "   if 0 <= x[2] <= d[2]:\n",
    "      return x\n",
    "   elif x[2] > d[2]:\n",
    "      return PacMan(x - d)\n",
    "   elif x[2] < 0:\n",
    "      return PacMan(x + d) "
   ]
  },
  {
   "cell_type": "code",
   "execution_count": 21,
   "metadata": {},
   "outputs": [],
   "source": [
    "def PowerSpec_Real(dens, hlength, filename):\n",
    "   filename = filename.replace(\".wst\", \".pk\")\n",
    "   name = '/home/riccardo/Pk-files/'+filename\n",
    "   Pk = PKL.Pk(dens, hlength, axis=0, MAS = 'CIC', verbose=False)\n",
    "   with open(name.replace(\"_Pk_\", \"_k3D_\"), 'ab') as file:\n",
    "      pickle.dump(Pk.k3D, file)\n",
    "   with open(name.replace(\"_Pk_\", \"_Nmodes3D_\"), 'ab') as file:\n",
    "      pickle.dump(Pk.Nmodes3D, file)\n",
    "   with open(name.replace(\"_Pk_\", \"_kpar_\"), 'ab') as file:\n",
    "      pickle.dump(Pk.kpar, file)\n",
    "   with open(name.replace(\"_Pk_\", \"_kper_\"), 'ab') as file:\n",
    "      pickle.dump(Pk.kper, file)\n",
    "   with open(name.replace(\"_Pk_\", \"_Pk_\"), 'ab') as file:\n",
    "      pickle.dump(Pk.Pk, file)\n",
    "\n",
    "def PowerSpec_RSD(dens, hlength, filename):\n",
    "   filename = filename.replace(\".wst\", \".pk\")\n",
    "   Pk = PKL.Pk(dens, hlength, axis=2, MAS = 'CIC', verbose=False)\n",
    "   name = '/home/riccardo/Pk-files/'+filename\n",
    "   with open(name.replace(\"_Pk_\", \"_k3D_\"), 'ab') as file:\n",
    "      pickle.dump(Pk.k3D, file)\n",
    "   with open(name.replace(\"_Pk_\", \"_Nmodes3D_\"), 'ab') as file:\n",
    "      pickle.dump(Pk.Nmodes3D, file)\n",
    "   with open(name.replace(\"_Pk_\", \"_kpar_\"), 'ab') as file:\n",
    "      pickle.dump(Pk.kpar, file)\n",
    "   with open(name.replace(\"_Pk_\", \"_kper_\"), 'ab') as file:\n",
    "      pickle.dump(Pk.kper, file)\n",
    "   with open(name.replace(\"_Pk_\", \"_Pk_\"), 'ab') as file:\n",
    "      pickle.dump(Pk.Pk, file)"
   ]
  },
  {
   "cell_type": "code",
   "execution_count": 22,
   "metadata": {},
   "outputs": [],
   "source": [
    "def HaloWST_one_f_MASL(filename, snapdir, i, snapnum=2, N_grid=256, hlength=1000, j=4, l=4):\n",
    "   \"\"\"Funcion that evaluates Scattering Transform coefficients of first and second order,\n",
    "   using a halo database from Quijote simulations.\n",
    "   NB: this function uses `MAS_library.MA()` to generate density matrix, not `myCIC`.\n",
    "\n",
    "   Arguments:\n",
    "   - `filename`: name of the file conaining WST coefficients of first and second order\n",
    "   - `snapdir` : the tree to the directory containing the datas, STOP before '/groups_';\n",
    "   - `snapnum` : indicates the choosen redshift (def: 2)\n",
    "   - `N_hgrid` : number of cells to divide the halos catalogue (def: 256)\n",
    "   - `hlength` : dimension of the cubic simulation (def: 1000 Mpc/h)\n",
    "   - `N_WSTgrid` : number of cells to divide the density field, generated by myCIC,\n",
    "      to calculate WST coefficients (def: 256)\n",
    "   - `j` : coefficient for scattering transform evaluation (def: 4)\n",
    "   - `l` : coefficient for scattering transform evaluation (def: 4)\n",
    "   - `i` : oprional, svariable for print execution time, takes value from iterable object of for loop\n",
    "\n",
    "   Returns:\n",
    "   - prints fist and second order scattering coefficients into a single files as 1D array.\n",
    "   \"\"\"\n",
    "   \n",
    "   z_dict = {4:0.0, 3:0.5, 2:1.0, 1:2.0, 0:3.0}\n",
    "   redshift = z_dict[snapnum]\n",
    "   strt = time.time()\n",
    "   H_0 = 100 * COSMOPAR[cosmo_parser(filename)][2]\n",
    "\n",
    "   print(i,\" - Reading datas\", flush = True) \n",
    "   datas = FoF_catalog(snapdir, snapnum, read_IDs=False)\n",
    "   print(\"  Data file readed -> variables assignement\", flush = True)\n",
    "   \n",
    "   # ======== Reading datas ==========================================================================================\n",
    "   pos_h = (datas.GroupPos/1e3).astype(np.float32)                     # positions in Mpc/h\n",
    "   mass = (datas.GroupMass * 1e10).astype(np.float32)                  # masses in M_sun/\n",
    "   vel = (datas.GroupVel*(1.0+redshift)).astype(np.float32)            # Halo peculiar velocities in km/s\n",
    "   del datas\n",
    "\n",
    "   # if len(mass_M) > 0:\n",
    "   START = time.time()\n",
    "   dens = np.zeros((N_grid, N_grid, N_grid), dtype=np.float32)\n",
    "   MASL.MA(pos_h, dens, hlength, 'CIC', W = mass)\n",
    "   dens /= np.mean(dens, dtype=np.float32)\n",
    "   dens -= 1.0\n",
    "   # WST eval\n",
    "   # Sx = S.scattering(from_numpy(dens))\n",
    "   # with open('/home/riccardo/WST-files/'+filename.replace(\"_coefficients_\", \"_coefficients_M_Ns_\"), 'ab') as file:\n",
    "   #    pickle.dump(flatten(Sx, start_dim=0).cpu().detach().numpy(), file)\n",
    "\n",
    "   # Pk eval\n",
    "   PowerSpec_Real(dens, hlength, filename.replace(\"_coefficients_\", \"_Pk_M_Ns_\"))\n",
    "   PowerSpec_RSD(dens, hlength, filename.replace(\"_coefficients_\", \"_Pk_M_RDs_\"))\n",
    "\n",
    "   print(\"  completed M_Ns in: \", round((time.time()-START)/60, 3), \" min\", flush = True)\n",
    "\n",
    "   del dens#, Sx\n",
    "\n",
    "   START = time.time()\n",
    "   dens = np.zeros((N_grid, N_grid, N_grid), dtype=np.float32)\n",
    "   for i in range(len(vel)):\n",
    "      pos_h[i] = PacMan(pos_h[i] + (1+redshift) * np.array( ([0, 0, vel[i][2]/H_0]) ) )\n",
    "   MASL.MA(pos_h, dens, hlength, 'CIC', W = mass)\n",
    "   dens /= np.mean(dens, dtype=np.float32)\n",
    "   dens -= 1.0\n",
    "   # WST eval\n",
    "   # Sx = S.scattering(from_numpy(dens))   \n",
    "   # with open('/home/riccardo/WST-files/'+filename.replace(\"_coefficients_\", \"_coefficients_M_RDs_\"), 'ab') as file:\n",
    "   #    pickle.dump(flatten(Sx, start_dim=0).cpu().detach().numpy(), file)\n",
    "   # PowerSpec_RSD(dens, hlength, filename.replace(\"_coefficients_\", \"_Pk_M_RDs_\"))\n",
    "   print(\"  completed M_Rs in: \", round((time.time()-START)/60, 3), \" min\", flush = True)\n",
    "\n",
    "   print(\"  The files' been written\\n    TIME LAP: \", round((time.time()-strt)/60, 3), \" mins\\n\", flush = True)"
   ]
  },
  {
   "cell_type": "code",
   "execution_count": 23,
   "metadata": {},
   "outputs": [],
   "source": [
    "def CALCULUS(S, N_grid = 256, n_realiz = -1, Ff = 'fiducial', root='/workplace/riccardo/Halos/', sig = \"s08\", qu = \"q08\"):\n",
    "   \"\"\"Evaluates WST coefficients and print them in one/two files (this is an option) for given folders\n",
    "   using `HaloWST_one_f_MASL`\n",
    "   \"\"\"\n",
    "\n",
    "   if n_realiz > 0:\n",
    "      num = n_realiz\n",
    "      in_realizations = os.listdir(root+Ff)[0:num]\n",
    "   elif n_realiz < 0:\n",
    "      in_realizations = os.listdir(root+Ff)\n",
    "      num = len(in_realizations)\n",
    "   else:\n",
    "      assert False, \"No realization to analize!\"\n",
    "    \n",
    "   filename = Ff+'_coefficients_' +sig + '_' + qu + '_' +str(N_grid)+\"_\"+str(num)+'.wst'\n",
    "\n",
    "   # delete existing file, want a new one (not extending it)\n",
    "   if not os.path.exists('/home/riccardo/WST-files/'+filename):\n",
    "      # os.remove('/home/riccardo/WST-files/'+filename)\n",
    "      for i in range(len(in_realizations)):\n",
    "         snapdir = root + Ff + '/' + in_realizations[i]\n",
    "         HaloWST_one_f_MASL(filename = filename, snapdir = snapdir, N_grid = N_grid, i=i)\n",
    "   else:\n",
    "      print(\"WARNING: \", filename, \"already exists\")"
   ]
  },
  {
   "cell_type": "code",
   "execution_count": 24,
   "metadata": {},
   "outputs": [],
   "source": [
    "N_grid = 256\n",
    "hlength = 1000\n",
    "\n",
    "snapnum = 2\n",
    "filename = \"fiducial\"+'_coefficients_' +\"08\" + '_' + \"08\" + '_' +str(N_grid)+\"_\"+str(1000)+'.wst'\n",
    "snapdir = \"/media/fuffolo97/HDD1/UNI/Tesi/halos/\" + cosmo_parser(filename) + \"/0\"\n",
    "\n",
    "z_dict = {4:0.0, 3:0.5, 2:1.0, 1:2.0, 0:3.0}\n",
    "redshift = z_dict[snapnum]\n",
    "strt = time.time()\n",
    "H_0 = 100 * COSMOPAR[\"fiducial\"][2]\n",
    "\n",
    "datas = FoF_catalog(snapdir, snapnum, read_IDs=False)"
   ]
  },
  {
   "cell_type": "code",
   "execution_count": 25,
   "metadata": {},
   "outputs": [],
   "source": [
    "pos_h = (datas.GroupPos/1e3).astype(np.float32)                     # positions in Mpc/h\n",
    "mass = (datas.GroupMass * 1e10).astype(np.float32)                  # masses in M_sun/\n",
    "vel = (datas.GroupVel*(1.0+redshift)).astype(np.float32)            # Halo peculiar velocities in km/s"
   ]
  },
  {
   "cell_type": "code",
   "execution_count": 26,
   "metadata": {},
   "outputs": [],
   "source": [
    "cosmo_nbk = cosmology.Cosmology(h=fiducial_vals[\"h\"],\n",
    "                                sigma8=fiducial_vals[\"s8\"],\n",
    "                                #Omega0_b=fiducial_vals[\"Ob\"],\n",
    "                                Omega0_cdm = fiducial_vals[\"Om\"],\n",
    "                                n_s=fiducial_vals[\"ns\"],\n",
    "                                # m_ncdm=fiducial_vals[\"Mnu\"]\n",
    "                                )\n",
    "\n",
    "BoxSize = 1000.\n",
    "line_of_sight = [0, 0, 1]"
   ]
  },
  {
   "cell_type": "markdown",
   "metadata": {},
   "source": [
    "## Method (A)"
   ]
  },
  {
   "cell_type": "code",
   "execution_count": 27,
   "metadata": {},
   "outputs": [],
   "source": [
    "data_nbk = np.empty(len(mass), dtype=[('Position', ('f8', 3)), ('RSDPosition', ('f8', 3)),('Velocity', ('f8', 3)), ('Mass', 'f8')])\n",
    "data_nbk[\"Position\"] = pos_h\n",
    "data_nbk[\"Velocity\"] = vel\n",
    "data_nbk[\"Mass\"] = mass\n",
    "data_nbk['RSDPosition'] = data_nbk['Position'] + data_nbk['Velocity'] * line_of_sight\n",
    "np.save(\"./npy-example_A.npy\", data_nbk)"
   ]
  },
  {
   "cell_type": "code",
   "execution_count": 28,
   "metadata": {},
   "outputs": [],
   "source": [
    "class QuijFile(FileType):\n",
    "    \"\"\"A file-like object to read 'xxx.0' Quijote catalog\"\"\"\n",
    "    def __init__(self, path, Nmesh=256):\n",
    "        self.path = path\n",
    "        self.attrs = {}\n",
    "        # load the data and set size and dtype\n",
    "        self._data = np.load(self.path)\n",
    "        self.size  = len(self._data)  # total size\n",
    "        self.dtype = self._data.dtype # data dtype\n",
    "\n",
    "    def read(self, columns, start, stop, step=1):\n",
    "        return self._data[start:stop:step]\n",
    "    \n",
    "QuijCatalog = FileCatalogFactory('QuijCatalog', QuijFile)"
   ]
  },
  {
   "cell_type": "code",
   "execution_count": 29,
   "metadata": {},
   "outputs": [
    {
     "name": "stderr",
     "output_type": "stream",
     "text": [
      "[ 000014.78 ]   0: 09-27 14:18  CatalogSource   INFO     Extra arguments to FileType: () {}\n"
     ]
    }
   ],
   "source": [
    "f = QuijCatalog(\"./npy-example_A.npy\")\n",
    "mesh = f.to_mesh(resampler='cic', Nmesh=256, compensated=True, position='Position', weight=\"Mass\", BoxSize=BoxSize)"
   ]
  },
  {
   "cell_type": "code",
   "execution_count": 30,
   "metadata": {},
   "outputs": [
    {
     "name": "stderr",
     "output_type": "stream",
     "text": [
      "[ 000014.85 ]   0: 09-27 14:18  CatalogMesh     INFO     Chunk 0 ~ 4194304 / 195524 \n"
     ]
    },
    {
     "ename": "ValueError",
     "evalue": "error trying to view slice as a single numpy array: cannot reshape array of size 10 into shape (3)",
     "output_type": "error",
     "traceback": [
      "\u001b[0;31m---------------------------------------------------------------------------\u001b[0m",
      "\u001b[0;31mValueError\u001b[0m                                Traceback (most recent call last)",
      "File \u001b[0;32m~/anaconda3/envs/nbodykit-envB/lib/python3.8/site-packages/nbodykit/io/base.py:258\u001b[0m, in \u001b[0;36mFileType.__getitem__\u001b[0;34m(self, s)\u001b[0m\n\u001b[1;32m    257\u001b[0m     \u001b[39mif\u001b[39;00m \u001b[39mlen\u001b[39m(\u001b[39mself\u001b[39m\u001b[39m.\u001b[39mshape) \u001b[39m>\u001b[39m \u001b[39m1\u001b[39m:\n\u001b[0;32m--> 258\u001b[0m         toret \u001b[39m=\u001b[39m toret\u001b[39m.\u001b[39;49mreshape((\u001b[39m-\u001b[39;49m\u001b[39m1\u001b[39;49m, \u001b[39mself\u001b[39;49m\u001b[39m.\u001b[39;49mshape[\u001b[39m1\u001b[39;49m]))\n\u001b[1;32m    259\u001b[0m \u001b[39mexcept\u001b[39;00m \u001b[39mException\u001b[39;00m \u001b[39mas\u001b[39;00m e:\n",
      "\u001b[0;31mValueError\u001b[0m: cannot reshape array of size 10 into shape (3)",
      "\nDuring handling of the above exception, another exception occurred:\n",
      "\u001b[0;31mValueError\u001b[0m                                Traceback (most recent call last)",
      "\u001b[1;32m/home/fuffolo97/TESI/try_nbk_copy.ipynb Cell 17\u001b[0m line \u001b[0;36m1\n\u001b[0;32m----> <a href='vscode-notebook-cell:/home/fuffolo97/TESI/try_nbk_copy.ipynb#Y141sZmlsZQ%3D%3D?line=0'>1</a>\u001b[0m FFTPower(mesh, mode\u001b[39m=\u001b[39;49m\u001b[39m'\u001b[39;49m\u001b[39m2d\u001b[39;49m\u001b[39m'\u001b[39;49m, dk\u001b[39m=\u001b[39;49m\u001b[39m0.005\u001b[39;49m, kmin\u001b[39m=\u001b[39;49m\u001b[39m0.01\u001b[39;49m, Nmu\u001b[39m=\u001b[39;49m\u001b[39m5\u001b[39;49m, los\u001b[39m=\u001b[39;49m[\u001b[39m0\u001b[39;49m,\u001b[39m0\u001b[39;49m,\u001b[39m1\u001b[39;49m], poles\u001b[39m=\u001b[39;49m[\u001b[39m0\u001b[39;49m,\u001b[39m2\u001b[39;49m,\u001b[39m4\u001b[39;49m])\n",
      "File \u001b[0;32m~/anaconda3/envs/nbodykit-envB/lib/python3.8/site-packages/nbodykit/algorithms/fftpower.py:224\u001b[0m, in \u001b[0;36mFFTPower.__init__\u001b[0;34m(self, first, mode, Nmesh, BoxSize, second, los, Nmu, dk, kmin, kmax, poles)\u001b[0m\n\u001b[1;32m    221\u001b[0m \u001b[39mself\u001b[39m\u001b[39m.\u001b[39mattrs[\u001b[39m'\u001b[39m\u001b[39mkmin\u001b[39m\u001b[39m'\u001b[39m] \u001b[39m=\u001b[39m kmin\n\u001b[1;32m    222\u001b[0m \u001b[39mself\u001b[39m\u001b[39m.\u001b[39mattrs[\u001b[39m'\u001b[39m\u001b[39mkmax\u001b[39m\u001b[39m'\u001b[39m] \u001b[39m=\u001b[39m kmax\n\u001b[0;32m--> 224\u001b[0m \u001b[39mself\u001b[39m\u001b[39m.\u001b[39mpower, \u001b[39mself\u001b[39m\u001b[39m.\u001b[39mpoles \u001b[39m=\u001b[39m \u001b[39mself\u001b[39;49m\u001b[39m.\u001b[39;49mrun()\n\u001b[1;32m    226\u001b[0m \u001b[39m# for compatibility, copy power's attrs into self.\u001b[39;00m\n\u001b[1;32m    227\u001b[0m \u001b[39mself\u001b[39m\u001b[39m.\u001b[39mattrs\u001b[39m.\u001b[39mupdate(\u001b[39mself\u001b[39m\u001b[39m.\u001b[39mpower\u001b[39m.\u001b[39mattrs)\n",
      "File \u001b[0;32m~/anaconda3/envs/nbodykit-envB/lib/python3.8/site-packages/nbodykit/algorithms/fftpower.py:281\u001b[0m, in \u001b[0;36mFFTPower.run\u001b[0;34m(self)\u001b[0m\n\u001b[1;32m    278\u001b[0m \u001b[39mif\u001b[39;00m \u001b[39mself\u001b[39m\u001b[39m.\u001b[39mattrs[\u001b[39m'\u001b[39m\u001b[39mmode\u001b[39m\u001b[39m'\u001b[39m] \u001b[39m==\u001b[39m \u001b[39m\"\u001b[39m\u001b[39m1d\u001b[39m\u001b[39m\"\u001b[39m: \u001b[39mself\u001b[39m\u001b[39m.\u001b[39mattrs[\u001b[39m'\u001b[39m\u001b[39mNmu\u001b[39m\u001b[39m'\u001b[39m] \u001b[39m=\u001b[39m \u001b[39m1\u001b[39m\n\u001b[1;32m    280\u001b[0m \u001b[39m# measure the 3D power (y3d is a ComplexField)\u001b[39;00m\n\u001b[0;32m--> 281\u001b[0m y3d, attrs \u001b[39m=\u001b[39m \u001b[39mself\u001b[39;49m\u001b[39m.\u001b[39;49m_compute_3d_power(\u001b[39mself\u001b[39;49m\u001b[39m.\u001b[39;49mfirst, \u001b[39mself\u001b[39;49m\u001b[39m.\u001b[39;49msecond)\n\u001b[1;32m    283\u001b[0m \u001b[39m# binning in k out to the minimum nyquist frequency\u001b[39;00m\n\u001b[1;32m    284\u001b[0m \u001b[39m# (accounting for possibly anisotropic box)\u001b[39;00m\n\u001b[1;32m    285\u001b[0m dk \u001b[39m=\u001b[39m \u001b[39mself\u001b[39m\u001b[39m.\u001b[39mattrs[\u001b[39m'\u001b[39m\u001b[39mdk\u001b[39m\u001b[39m'\u001b[39m]\n",
      "File \u001b[0;32m~/anaconda3/envs/nbodykit-envB/lib/python3.8/site-packages/nbodykit/algorithms/fftpower.py:105\u001b[0m, in \u001b[0;36mFFTBase._compute_3d_power\u001b[0;34m(self, first, second)\u001b[0m\n\u001b[1;32m    102\u001b[0m \u001b[39m# add self.attrs\u001b[39;00m\n\u001b[1;32m    103\u001b[0m attrs\u001b[39m.\u001b[39mupdate(\u001b[39mself\u001b[39m\u001b[39m.\u001b[39mattrs)\n\u001b[0;32m--> 105\u001b[0m c1 \u001b[39m=\u001b[39m first\u001b[39m.\u001b[39;49mcompute(mode\u001b[39m=\u001b[39;49m\u001b[39m'\u001b[39;49m\u001b[39mcomplex\u001b[39;49m\u001b[39m'\u001b[39;49m, Nmesh\u001b[39m=\u001b[39;49m\u001b[39mself\u001b[39;49m\u001b[39m.\u001b[39;49mattrs[\u001b[39m'\u001b[39;49m\u001b[39mNmesh\u001b[39;49m\u001b[39m'\u001b[39;49m])\n\u001b[1;32m    107\u001b[0m \u001b[39m# compute the auto power of single supplied field\u001b[39;00m\n\u001b[1;32m    108\u001b[0m \u001b[39mif\u001b[39;00m first \u001b[39mis\u001b[39;00m second:\n",
      "File \u001b[0;32m~/anaconda3/envs/nbodykit-envB/lib/python3.8/site-packages/nbodykit/base/mesh.py:250\u001b[0m, in \u001b[0;36mMeshSource.compute\u001b[0;34m(self, mode, Nmesh)\u001b[0m\n\u001b[1;32m    246\u001b[0m \u001b[39mdef\u001b[39;00m \u001b[39mcompute\u001b[39m(\u001b[39mself\u001b[39m, mode\u001b[39m=\u001b[39m\u001b[39m'\u001b[39m\u001b[39mreal\u001b[39m\u001b[39m'\u001b[39m, Nmesh\u001b[39m=\u001b[39m\u001b[39mNone\u001b[39;00m):\n\u001b[1;32m    247\u001b[0m \u001b[39m    \u001b[39m\u001b[39m\"\"\"\u001b[39;00m\n\u001b[1;32m    248\u001b[0m \u001b[39m        Compute / Fetch the mesh object into memory as a RealField or ComplexField object.\u001b[39;00m\n\u001b[1;32m    249\u001b[0m \u001b[39m    \"\"\"\u001b[39;00m\n\u001b[0;32m--> 250\u001b[0m     \u001b[39mreturn\u001b[39;00m \u001b[39mself\u001b[39;49m\u001b[39m.\u001b[39;49m_paint_XXX(mode\u001b[39m=\u001b[39;49mmode, Nmesh\u001b[39m=\u001b[39;49mNmesh)\n",
      "File \u001b[0;32m~/anaconda3/envs/nbodykit-envB/lib/python3.8/site-packages/nbodykit/base/mesh.py:289\u001b[0m, in \u001b[0;36mMeshSource._paint_XXX\u001b[0;34m(self, mode, Nmesh)\u001b[0m\n\u001b[1;32m    286\u001b[0m actions \u001b[39m=\u001b[39m \u001b[39mself\u001b[39m\u001b[39m.\u001b[39mactions \u001b[39m+\u001b[39m [(mode, )]\n\u001b[1;32m    288\u001b[0m \u001b[39m# if we expect complex, be smart and use complex directly.\u001b[39;00m\n\u001b[0;32m--> 289\u001b[0m var \u001b[39m=\u001b[39m \u001b[39mself\u001b[39;49m\u001b[39m.\u001b[39;49mto_field(mode\u001b[39m=\u001b[39;49mactions[\u001b[39m0\u001b[39;49m][\u001b[39m0\u001b[39;49m])\n\u001b[1;32m    291\u001b[0m \u001b[39mif\u001b[39;00m \u001b[39mnot\u001b[39;00m \u001b[39mhasattr\u001b[39m(var, \u001b[39m'\u001b[39m\u001b[39mattrs\u001b[39m\u001b[39m'\u001b[39m):\n\u001b[1;32m    292\u001b[0m     attrs \u001b[39m=\u001b[39m {}\n",
      "File \u001b[0;32m~/anaconda3/envs/nbodykit-envB/lib/python3.8/site-packages/nbodykit/base/mesh.py:235\u001b[0m, in \u001b[0;36mMeshSource.to_field\u001b[0;34m(self, mode, out)\u001b[0m\n\u001b[1;32m    233\u001b[0m \u001b[39mcomplex\u001b[39m \u001b[39m=\u001b[39m \u001b[39mself\u001b[39m\u001b[39m.\u001b[39mto_complex_field()\n\u001b[1;32m    234\u001b[0m \u001b[39mif\u001b[39;00m \u001b[39mcomplex\u001b[39m \u001b[39mis\u001b[39;00m \u001b[39mNotImplemented\u001b[39m:\n\u001b[0;32m--> 235\u001b[0m     real \u001b[39m=\u001b[39m \u001b[39mself\u001b[39;49m\u001b[39m.\u001b[39;49mto_real_field()\n\u001b[1;32m    236\u001b[0m     \u001b[39massert\u001b[39;00m real \u001b[39mis\u001b[39;00m \u001b[39mnot\u001b[39;00m \u001b[39mNotImplemented\u001b[39m\n\u001b[1;32m    237\u001b[0m     \u001b[39mcomplex\u001b[39m \u001b[39m=\u001b[39m real\u001b[39m.\u001b[39mr2c(out\u001b[39m=\u001b[39m\u001b[39mEllipsis\u001b[39m)\n",
      "File \u001b[0;32m~/anaconda3/envs/nbodykit-envB/lib/python3.8/site-packages/nbodykit/source/mesh/catalog.py:311\u001b[0m, in \u001b[0;36mCatalogMesh.to_real_field\u001b[0;34m(self, out, normalize)\u001b[0m\n\u001b[1;32m    308\u001b[0m     \u001b[39mself\u001b[39m\u001b[39m.\u001b[39mlogger\u001b[39m.\u001b[39minfo(\u001b[39m\"\u001b[39m\u001b[39mChunk \u001b[39m\u001b[39m%d\u001b[39;00m\u001b[39m ~ \u001b[39m\u001b[39m%d\u001b[39;00m\u001b[39m / \u001b[39m\u001b[39m%d\u001b[39;00m\u001b[39m \u001b[39m\u001b[39m\"\u001b[39m \u001b[39m%\u001b[39m (i, i \u001b[39m+\u001b[39m chunksize, Nlocalmax))\n\u001b[1;32m    310\u001b[0m \u001b[39mtry\u001b[39;00m:\n\u001b[0;32m--> 311\u001b[0m     Nlocal1, Wlocal1, W2local1 \u001b[39m=\u001b[39m dochunk(s)\n\u001b[1;32m    312\u001b[0m \u001b[39mexcept\u001b[39;00m \u001b[39mStopIteration\u001b[39;00m:\n\u001b[1;32m    313\u001b[0m     chunksize \u001b[39m=\u001b[39m chunksize \u001b[39m/\u001b[39m\u001b[39m/\u001b[39m \u001b[39m2\u001b[39m\n",
      "File \u001b[0;32m~/anaconda3/envs/nbodykit-envB/lib/python3.8/site-packages/nbodykit/source/mesh/catalog.py:245\u001b[0m, in \u001b[0;36mCatalogMesh.to_real_field.<locals>.dochunk\u001b[0;34m(s)\u001b[0m\n\u001b[1;32m    242\u001b[0m     columns\u001b[39m.\u001b[39mappend(Selection[s])\n\u001b[1;32m    244\u001b[0m \u001b[39m# be sure to use the source to compute\u001b[39;00m\n\u001b[0;32m--> 245\u001b[0m data \u001b[39m=\u001b[39m \u001b[39mself\u001b[39;49m\u001b[39m.\u001b[39;49msource\u001b[39m.\u001b[39;49mcompute(columns)\n\u001b[1;32m    247\u001b[0m sel \u001b[39m=\u001b[39m \u001b[39mEllipsis\u001b[39m \u001b[39mif\u001b[39;00m Selection \u001b[39mis\u001b[39;00m \u001b[39mNone\u001b[39;00m \u001b[39melse\u001b[39;00m data\u001b[39m.\u001b[39mpop()\n\u001b[1;32m    248\u001b[0m value \u001b[39m=\u001b[39m \u001b[39mNone\u001b[39;00m      \u001b[39mif\u001b[39;00m Value \u001b[39mis\u001b[39;00m \u001b[39mNone\u001b[39;00m \u001b[39melse\u001b[39;00m data\u001b[39m.\u001b[39mpop()[sel]\n",
      "File \u001b[0;32m~/anaconda3/envs/nbodykit-envB/lib/python3.8/site-packages/nbodykit/base/catalog.py:556\u001b[0m, in \u001b[0;36mCatalogSourceBase.compute\u001b[0;34m(self, *args, **kwargs)\u001b[0m\n\u001b[1;32m    553\u001b[0m \u001b[39mif\u001b[39;00m \u001b[39mself\u001b[39m\u001b[39m.\u001b[39mbase \u001b[39mis\u001b[39;00m \u001b[39mnot\u001b[39;00m \u001b[39mNone\u001b[39;00m:\n\u001b[1;32m    554\u001b[0m     \u001b[39mreturn\u001b[39;00m \u001b[39mself\u001b[39m\u001b[39m.\u001b[39mbase\u001b[39m.\u001b[39mcompute(\u001b[39m*\u001b[39margs, \u001b[39m*\u001b[39m\u001b[39m*\u001b[39mkwargs)\n\u001b[0;32m--> 556\u001b[0m toret \u001b[39m=\u001b[39m dask\u001b[39m.\u001b[39;49mcompute(\u001b[39m*\u001b[39;49margs, \u001b[39m*\u001b[39;49m\u001b[39m*\u001b[39;49mkwargs)\n\u001b[1;32m    558\u001b[0m \u001b[39m# do not return tuples of length one\u001b[39;00m\n\u001b[1;32m    559\u001b[0m \u001b[39mif\u001b[39;00m \u001b[39mlen\u001b[39m(toret) \u001b[39m==\u001b[39m \u001b[39m1\u001b[39m: toret \u001b[39m=\u001b[39m toret[\u001b[39m0\u001b[39m]\n",
      "File \u001b[0;32m~/anaconda3/envs/nbodykit-envB/lib/python3.8/site-packages/dask/base.py:593\u001b[0m, in \u001b[0;36mcompute\u001b[0;34m(traverse, optimize_graph, scheduler, get, *args, **kwargs)\u001b[0m\n\u001b[1;32m    585\u001b[0m     \u001b[39mreturn\u001b[39;00m args\n\u001b[1;32m    587\u001b[0m schedule \u001b[39m=\u001b[39m get_scheduler(\n\u001b[1;32m    588\u001b[0m     scheduler\u001b[39m=\u001b[39mscheduler,\n\u001b[1;32m    589\u001b[0m     collections\u001b[39m=\u001b[39mcollections,\n\u001b[1;32m    590\u001b[0m     get\u001b[39m=\u001b[39mget,\n\u001b[1;32m    591\u001b[0m )\n\u001b[0;32m--> 593\u001b[0m dsk \u001b[39m=\u001b[39m collections_to_dsk(collections, optimize_graph, \u001b[39m*\u001b[39;49m\u001b[39m*\u001b[39;49mkwargs)\n\u001b[1;32m    594\u001b[0m keys, postcomputes \u001b[39m=\u001b[39m [], []\n\u001b[1;32m    595\u001b[0m \u001b[39mfor\u001b[39;00m x \u001b[39min\u001b[39;00m collections:\n",
      "File \u001b[0;32m~/anaconda3/envs/nbodykit-envB/lib/python3.8/site-packages/dask/base.py:366\u001b[0m, in \u001b[0;36mcollections_to_dsk\u001b[0;34m(collections, optimize_graph, optimizations, **kwargs)\u001b[0m\n\u001b[1;32m    364\u001b[0m \u001b[39mfor\u001b[39;00m opt, val \u001b[39min\u001b[39;00m groups\u001b[39m.\u001b[39mitems():\n\u001b[1;32m    365\u001b[0m     dsk, keys \u001b[39m=\u001b[39m _extract_graph_and_keys(val)\n\u001b[0;32m--> 366\u001b[0m     dsk \u001b[39m=\u001b[39m opt(dsk, keys, \u001b[39m*\u001b[39;49m\u001b[39m*\u001b[39;49mkwargs)\n\u001b[1;32m    368\u001b[0m     \u001b[39mfor\u001b[39;00m opt_inner \u001b[39min\u001b[39;00m optimizations:\n\u001b[1;32m    369\u001b[0m         dsk \u001b[39m=\u001b[39m opt_inner(dsk, keys, \u001b[39m*\u001b[39m\u001b[39m*\u001b[39mkwargs)\n",
      "File \u001b[0;32m~/anaconda3/envs/nbodykit-envB/lib/python3.8/site-packages/nbodykit/base/catalog.py:83\u001b[0m, in \u001b[0;36mColumnAccessor.__dask_optimize__\u001b[0;34m(dsk, keys, **kwargs)\u001b[0m\n\u001b[1;32m     73\u001b[0m \u001b[39m\u001b[39m\u001b[39m\"\"\"\u001b[39;00m\n\u001b[1;32m     74\u001b[0m \u001b[39mOptimize the dask object.\u001b[39;00m\n\u001b[1;32m     75\u001b[0m \n\u001b[0;32m   (...)\u001b[0m\n\u001b[1;32m     80\u001b[0m \n\u001b[1;32m     81\u001b[0m \u001b[39m\"\"\"\u001b[39;00m\n\u001b[1;32m     82\u001b[0m \u001b[39mfrom\u001b[39;00m \u001b[39mdask\u001b[39;00m\u001b[39m.\u001b[39;00m\u001b[39moptimization\u001b[39;00m \u001b[39mimport\u001b[39;00m cull\n\u001b[0;32m---> 83\u001b[0m dsk2, dependencies \u001b[39m=\u001b[39m cull(dsk, keys)\n\u001b[1;32m     84\u001b[0m \u001b[39mreturn\u001b[39;00m dsk2\n",
      "File \u001b[0;32m~/anaconda3/envs/nbodykit-envB/lib/python3.8/site-packages/dask/optimization.py:56\u001b[0m, in \u001b[0;36mcull\u001b[0;34m(dsk, keys)\u001b[0m\n\u001b[1;32m     54\u001b[0m new_work \u001b[39m=\u001b[39m []\n\u001b[1;32m     55\u001b[0m \u001b[39mfor\u001b[39;00m k \u001b[39min\u001b[39;00m work:\n\u001b[0;32m---> 56\u001b[0m     dependencies_k \u001b[39m=\u001b[39m get_dependencies(dsk, k, as_list\u001b[39m=\u001b[39;49m\u001b[39mTrue\u001b[39;49;00m)  \u001b[39m# fuse needs lists\u001b[39;00m\n\u001b[1;32m     57\u001b[0m     out[k] \u001b[39m=\u001b[39m dsk[k]\n\u001b[1;32m     58\u001b[0m     dependencies[k] \u001b[39m=\u001b[39m dependencies_k\n",
      "File \u001b[0;32m~/anaconda3/envs/nbodykit-envB/lib/python3.8/site-packages/dask/core.py:260\u001b[0m, in \u001b[0;36mget_dependencies\u001b[0;34m(dsk, key, task, as_list)\u001b[0m\n\u001b[1;32m    257\u001b[0m \u001b[39melse\u001b[39;00m:\n\u001b[1;32m    258\u001b[0m     \u001b[39mraise\u001b[39;00m \u001b[39mValueError\u001b[39;00m(\u001b[39m\"\u001b[39m\u001b[39mProvide either key or task\u001b[39m\u001b[39m\"\u001b[39m)\n\u001b[0;32m--> 260\u001b[0m \u001b[39mreturn\u001b[39;00m keys_in_tasks(dsk, [arg], as_list\u001b[39m=\u001b[39;49mas_list)\n",
      "File \u001b[0;32m~/anaconda3/envs/nbodykit-envB/lib/python3.8/site-packages/dask/core.py:186\u001b[0m, in \u001b[0;36mkeys_in_tasks\u001b[0;34m(keys, tasks, as_list)\u001b[0m\n\u001b[1;32m    184\u001b[0m \u001b[39melse\u001b[39;00m:\n\u001b[1;32m    185\u001b[0m     \u001b[39mtry\u001b[39;00m:\n\u001b[0;32m--> 186\u001b[0m         \u001b[39mif\u001b[39;00m w \u001b[39min\u001b[39;49;00m keys:\n\u001b[1;32m    187\u001b[0m             ret\u001b[39m.\u001b[39mappend(w)\n\u001b[1;32m    188\u001b[0m     \u001b[39mexcept\u001b[39;00m \u001b[39mTypeError\u001b[39;00m:  \u001b[39m# not hashable\u001b[39;00m\n",
      "File \u001b[0;32m~/anaconda3/envs/nbodykit-envB/lib/python3.8/_collections_abc.py:666\u001b[0m, in \u001b[0;36mMapping.__contains__\u001b[0;34m(self, key)\u001b[0m\n\u001b[1;32m    664\u001b[0m \u001b[39mdef\u001b[39;00m \u001b[39m__contains__\u001b[39m(\u001b[39mself\u001b[39m, key):\n\u001b[1;32m    665\u001b[0m     \u001b[39mtry\u001b[39;00m:\n\u001b[0;32m--> 666\u001b[0m         \u001b[39mself\u001b[39;49m[key]\n\u001b[1;32m    667\u001b[0m     \u001b[39mexcept\u001b[39;00m \u001b[39mKeyError\u001b[39;00m:\n\u001b[1;32m    668\u001b[0m         \u001b[39mreturn\u001b[39;00m \u001b[39mFalse\u001b[39;00m\n",
      "File \u001b[0;32m~/anaconda3/envs/nbodykit-envB/lib/python3.8/site-packages/dask/highlevelgraph.py:498\u001b[0m, in \u001b[0;36mHighLevelGraph.__getitem__\u001b[0;34m(self, key)\u001b[0m\n\u001b[1;32m    496\u001b[0m     \u001b[39mpass\u001b[39;00m\n\u001b[1;32m    497\u001b[0m \u001b[39mtry\u001b[39;00m:\n\u001b[0;32m--> 498\u001b[0m     \u001b[39mreturn\u001b[39;00m \u001b[39mself\u001b[39m\u001b[39m.\u001b[39mlayers[key[\u001b[39m0\u001b[39;49m]][key]\n\u001b[1;32m    499\u001b[0m \u001b[39mexcept\u001b[39;00m (\u001b[39mKeyError\u001b[39;00m, \u001b[39mIndexError\u001b[39;00m, \u001b[39mTypeError\u001b[39;00m):\n\u001b[1;32m    500\u001b[0m     \u001b[39mpass\u001b[39;00m\n",
      "File \u001b[0;32m~/anaconda3/envs/nbodykit-envB/lib/python3.8/site-packages/nbodykit/io/base.py:260\u001b[0m, in \u001b[0;36mFileType.__getitem__\u001b[0;34m(self, s)\u001b[0m\n\u001b[1;32m    258\u001b[0m             toret \u001b[39m=\u001b[39m toret\u001b[39m.\u001b[39mreshape((\u001b[39m-\u001b[39m\u001b[39m1\u001b[39m, \u001b[39mself\u001b[39m\u001b[39m.\u001b[39mshape[\u001b[39m1\u001b[39m]))\n\u001b[1;32m    259\u001b[0m     \u001b[39mexcept\u001b[39;00m \u001b[39mException\u001b[39;00m \u001b[39mas\u001b[39;00m e:\n\u001b[0;32m--> 260\u001b[0m         \u001b[39mraise\u001b[39;00m \u001b[39mValueError\u001b[39;00m(\u001b[39m\"\u001b[39m\u001b[39merror trying to view slice as a single numpy array: \u001b[39m\u001b[39m%s\u001b[39;00m\u001b[39m\"\u001b[39m \u001b[39m%\u001b[39m\u001b[39mstr\u001b[39m(e))\n\u001b[1;32m    262\u001b[0m \u001b[39m# if we have an index for the second dimension\u001b[39;00m\n\u001b[1;32m    263\u001b[0m \u001b[39m# then slice the return value\u001b[39;00m\n\u001b[1;32m    264\u001b[0m \u001b[39mif\u001b[39;00m second_axis_index \u001b[39mis\u001b[39;00m \u001b[39mnot\u001b[39;00m \u001b[39mNone\u001b[39;00m:\n",
      "\u001b[0;31mValueError\u001b[0m: error trying to view slice as a single numpy array: cannot reshape array of size 10 into shape (3)"
     ]
    }
   ],
   "source": [
    "FFTPower(mesh, mode='2d', dk=0.005, kmin=0.01, Nmu=5, los=[0,0,1], poles=[0,2,4])"
   ]
  },
  {
   "cell_type": "code",
   "execution_count": null,
   "metadata": {},
   "outputs": [],
   "source": [
    "r_3d = FFTPower(mesh, mode='1d', dk=0.005, kmin=0.01)"
   ]
  },
  {
   "cell_type": "markdown",
   "metadata": {},
   "source": [
    "## Method (B)"
   ]
  },
  {
   "cell_type": "code",
   "execution_count": null,
   "metadata": {},
   "outputs": [],
   "source": [
    "dtype_B = [(\"Position\", (np.float32, 3)), (\"Velocity\", (np.float32, 3)), (\"Mass\", np.float32)]"
   ]
  },
  {
   "cell_type": "code",
   "execution_count": null,
   "metadata": {},
   "outputs": [],
   "source": [
    "data_B = np.column_stack((pos_h, vel, mass))"
   ]
  },
  {
   "cell_type": "code",
   "execution_count": null,
   "metadata": {},
   "outputs": [],
   "source": [
    "custom_catalog = np.array(data_B, dtype=dtype_B)"
   ]
  },
  {
   "cell_type": "code",
   "execution_count": null,
   "metadata": {},
   "outputs": [],
   "source": [
    "custom_catalog = ArrayCatalog(custom_catalog)"
   ]
  },
  {
   "cell_type": "code",
   "execution_count": null,
   "metadata": {},
   "outputs": [],
   "source": [
    "mesh_B = custom_catalog.to_mesh(resampler='cic', Nmesh=256, compensated=True, position='Position', weight=\"Mass\", BoxSize=BoxSize)"
   ]
  },
  {
   "cell_type": "code",
   "execution_count": null,
   "metadata": {},
   "outputs": [],
   "source": [
    "r_3d = FFTPower(mesh_B, mode='1d', dk=0.005, kmin=0.01)"
   ]
  },
  {
   "cell_type": "code",
   "execution_count": null,
   "metadata": {},
   "outputs": [
    {
     "name": "stdout",
     "output_type": "stream",
     "text": [
      "pos_h shape: (195524, 3)\n",
      "vel shape: (195524, 3)\n",
      "mass shape: (195524,)\n"
     ]
    }
   ],
   "source": [
    "print(\"pos_h shape:\", pos_h.shape)\n",
    "print(\"vel shape:\", vel.shape)\n",
    "print(\"mass shape:\", mass.shape)"
   ]
  },
  {
   "cell_type": "markdown",
   "metadata": {},
   "source": [
    "## Method (C)"
   ]
  },
  {
   "cell_type": "code",
   "execution_count": null,
   "metadata": {},
   "outputs": [],
   "source": [
    "Plin = cosmology.LinearPower(cosmo_nbk, 1)"
   ]
  },
  {
   "cell_type": "code",
   "execution_count": null,
   "metadata": {},
   "outputs": [],
   "source": []
  }
 ],
 "metadata": {
  "kernelspec": {
   "display_name": "Python 3 (ipykernel)",
   "language": "python",
   "name": "python3"
  },
  "language_info": {
   "codemirror_mode": {
    "name": "ipython",
    "version": 3
   },
   "file_extension": ".py",
   "mimetype": "text/x-python",
   "name": "python",
   "nbconvert_exporter": "python",
   "pygments_lexer": "ipython3",
   "version": "3.8.18"
  }
 },
 "nbformat": 4,
 "nbformat_minor": 2
}
